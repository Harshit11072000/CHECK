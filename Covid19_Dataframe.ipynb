{
  "nbformat": 4,
  "nbformat_minor": 0,
  "metadata": {
    "colab": {
      "name": "Untitled",
      "provenance": [],
      "collapsed_sections": [],
      "authorship_tag": "ABX9TyM1f2UqIw1DnqBCNkdH0d0S",
      "include_colab_link": true
    },
    "kernelspec": {
      "name": "python3",
      "display_name": "Python 3"
    }
  },
  "cells": [
    {
      "cell_type": "markdown",
      "metadata": {
        "id": "view-in-github",
        "colab_type": "text"
      },
      "source": [
        "<a href=\"https://colab.research.google.com/github/Harshit11072000/CHECK/blob/master/Covid19_Dataframe.ipynb\" target=\"_parent\"><img src=\"https://colab.research.google.com/assets/colab-badge.svg\" alt=\"Open In Colab\"/></a>"
      ]
    },
    {
      "cell_type": "code",
      "metadata": {
        "id": "1qyhYnq6zRdk"
      },
      "source": [
        "import numpy as np\r\n",
        "import pandas as pd\r\n",
        "import matplotlib.pyplot as plt"
      ],
      "execution_count": 1,
      "outputs": []
    },
    {
      "cell_type": "code",
      "metadata": {
        "id": "Wj7wQxCvzhKH"
      },
      "source": [
        "df = pd.read_csv(\"covid19.csv.txt\").drop(['Sno'],axis=1)\r\n",
        "y = df.iloc[:,-4:]"
      ],
      "execution_count": 2,
      "outputs": []
    },
    {
      "cell_type": "code",
      "metadata": {
        "colab": {
          "base_uri": "https://localhost:8080/"
        },
        "id": "2idjw7Ci0QGU",
        "outputId": "4feb411f-4742-4c73-f1d3-76538dc7c578"
      },
      "source": [
        "print(df)"
      ],
      "execution_count": 3,
      "outputs": [
        {
          "output_type": "stream",
          "text": [
            "         Date State/UnionTerritory  ...  Cured  Deaths\n",
            "0    30/01/20               Kerala  ...      0       0\n",
            "1    31/01/20               Kerala  ...      0       0\n",
            "2    01/02/20               Kerala  ...      0       0\n",
            "3    02/02/20               Kerala  ...      0       0\n",
            "4    03/02/20               Kerala  ...      0       0\n",
            "..        ...                  ...  ...    ...     ...\n",
            "265  21/03/20    Jammu and Kashmir  ...      0       0\n",
            "266  21/03/20               Ladakh  ...      0       0\n",
            "267  21/03/20        Uttar Pradesh  ...      9       0\n",
            "268  21/03/20          Uttarakhand  ...      0       0\n",
            "269  21/03/20          West Bengal  ...      0       0\n",
            "\n",
            "[270 rows x 6 columns]\n"
          ],
          "name": "stdout"
        }
      ]
    },
    {
      "cell_type": "code",
      "metadata": {
        "id": "lrLfldIH3Hpc"
      },
      "source": [
        "df = pd.DataFrame(df)  "
      ],
      "execution_count": 4,
      "outputs": []
    },
    {
      "cell_type": "code",
      "metadata": {
        "id": "enCpFAYq4Ax0"
      },
      "source": [
        "df1 = df.groupby(['Date'],sort=False)"
      ],
      "execution_count": 7,
      "outputs": []
    },
    {
      "cell_type": "code",
      "metadata": {
        "id": "YS7iE4E7nTX9"
      },
      "source": [
        "y = pd.DataFrame(y)"
      ],
      "execution_count": 9,
      "outputs": []
    },
    {
      "cell_type": "code",
      "metadata": {
        "id": "0W03xotsuVGj"
      },
      "source": [
        "df[\"sum\"] = y.sum(axis=1)"
      ],
      "execution_count": 10,
      "outputs": []
    },
    {
      "cell_type": "code",
      "metadata": {
        "colab": {
          "base_uri": "https://localhost:8080/"
        },
        "id": "y5PSyPkdvDQI",
        "outputId": "298fc6c0-98c5-48d5-8448-7886a2e85747"
      },
      "source": [
        "print(df)"
      ],
      "execution_count": 11,
      "outputs": [
        {
          "output_type": "stream",
          "text": [
            "         Date State/UnionTerritory  ConfirmedIndianNational  ...  Cured  Deaths  sum\n",
            "0    30/01/20               Kerala                        1  ...      0       0    1\n",
            "1    31/01/20               Kerala                        1  ...      0       0    1\n",
            "2    01/02/20               Kerala                        2  ...      0       0    2\n",
            "3    02/02/20               Kerala                        3  ...      0       0    3\n",
            "4    03/02/20               Kerala                        3  ...      0       0    3\n",
            "..        ...                  ...                      ...  ...    ...     ...  ...\n",
            "265  21/03/20    Jammu and Kashmir                        4  ...      0       0    4\n",
            "266  21/03/20               Ladakh                       13  ...      0       0   13\n",
            "267  21/03/20        Uttar Pradesh                       23  ...      9       0   33\n",
            "268  21/03/20          Uttarakhand                        3  ...      0       0    3\n",
            "269  21/03/20          West Bengal                        3  ...      0       0    3\n",
            "\n",
            "[270 rows x 7 columns]\n"
          ],
          "name": "stdout"
        }
      ]
    },
    {
      "cell_type": "code",
      "metadata": {
        "colab": {
          "base_uri": "https://localhost:8080/"
        },
        "id": "aMOaqJfsvkjh",
        "outputId": "e9cac4c2-de5a-4054-e625-ba9ac8bf1317"
      },
      "source": [
        "x = df.loc[:,['Date','sum']]\r\n",
        "print(x)"
      ],
      "execution_count": 12,
      "outputs": [
        {
          "output_type": "stream",
          "text": [
            "         Date  sum\n",
            "0    30/01/20    1\n",
            "1    31/01/20    1\n",
            "2    01/02/20    2\n",
            "3    02/02/20    3\n",
            "4    03/02/20    3\n",
            "..        ...  ...\n",
            "265  21/03/20    4\n",
            "266  21/03/20   13\n",
            "267  21/03/20   33\n",
            "268  21/03/20    3\n",
            "269  21/03/20    3\n",
            "\n",
            "[270 rows x 2 columns]\n"
          ],
          "name": "stdout"
        }
      ]
    },
    {
      "cell_type": "code",
      "metadata": {
        "id": "ZMiG3GAw4Cap"
      },
      "source": [
        "x = x.groupby('Date',sort=False).sum().reset_index()"
      ],
      "execution_count": 13,
      "outputs": []
    },
    {
      "cell_type": "code",
      "metadata": {
        "colab": {
          "base_uri": "https://localhost:8080/"
        },
        "id": "5HEKn9QX6Pmv",
        "outputId": "3f003202-9752-4932-9e00-73aa2a0c66d7"
      },
      "source": [
        "print(x)"
      ],
      "execution_count": 14,
      "outputs": [
        {
          "output_type": "stream",
          "text": [
            "        Date  sum\n",
            "0   30/01/20    1\n",
            "1   31/01/20    1\n",
            "2   01/02/20    2\n",
            "3   02/02/20    3\n",
            "4   03/02/20    3\n",
            "5   04/02/20    3\n",
            "6   05/02/20    3\n",
            "7   06/02/20    3\n",
            "8   07/02/20    3\n",
            "9   08/02/20    3\n",
            "10  09/02/20    3\n",
            "11  10/02/20    3\n",
            "12  11/02/20    3\n",
            "13  12/02/20    3\n",
            "14  13/02/20    3\n",
            "15  14/02/20    3\n",
            "16  15/02/20    3\n",
            "17  16/02/20    3\n",
            "18  17/02/20    3\n",
            "19  18/02/20    3\n",
            "20  19/02/20    3\n",
            "21  20/02/20    3\n",
            "22  21/02/20    3\n",
            "23  22/02/20    3\n",
            "24  23/02/20    3\n",
            "25  24/02/20    3\n",
            "26  25/02/20    3\n",
            "27  26/02/20    3\n",
            "28  27/02/20    3\n",
            "29  28/02/20    3\n",
            "30  29/02/20    3\n",
            "31  01/03/20    3\n",
            "32  02/03/20    5\n",
            "33  03/03/20    9\n",
            "34  04/03/20   31\n",
            "35  05/03/20   33\n",
            "36  06/03/20   34\n",
            "37  07/03/20   37\n",
            "38  08/03/20   42\n",
            "39  09/03/20   49\n",
            "40  10/03/20   61\n",
            "41  11/03/20   63\n",
            "42  12/03/20   77\n",
            "43  13/03/20   85\n",
            "44  14/03/20   96\n",
            "45  15/03/20  125\n",
            "46  16/03/20  129\n",
            "47  17/03/20  154\n",
            "48  18/03/20  168\n",
            "49  19/03/20  197\n",
            "50  20/03/20  250\n",
            "51  21/03/20  310\n"
          ],
          "name": "stdout"
        }
      ]
    },
    {
      "cell_type": "code",
      "metadata": {
        "colab": {
          "base_uri": "https://localhost:8080/",
          "height": 296
        },
        "id": "VpO6r0Rx_RDH",
        "outputId": "89852413-901e-48cc-83d2-217f9188cae0"
      },
      "source": [
        "plt.plot(x['Date'],x['sum'])\r\n",
        "plt.xlabel(\"Date\")\r\n",
        "plt.ylabel(\"Covid_Patients\")\r\n"
      ],
      "execution_count": 15,
      "outputs": [
        {
          "output_type": "execute_result",
          "data": {
            "text/plain": [
              "Text(0, 0.5, 'Covid_Patients')"
            ]
          },
          "metadata": {
            "tags": []
          },
          "execution_count": 15
        },
        {
          "output_type": "display_data",
          "data": {
            "image/png": "[encoded data removed]",
            "text/plain": [
              "<Figure size 432x288 with 1 Axes>"
            ]
          },
          "metadata": {
            "tags": [],
            "needs_background": "light"
          }
        }
      ]
    },
    {
      "cell_type": "code",
      "metadata": {
        "colab": {
          "base_uri": "https://localhost:8080/"
        },
        "id": "KeGmM6SxBOQh",
        "outputId": "7176da63-6e96-4ee1-cf17-cd95b697322f"
      },
      "source": [
        "type(x)"
      ],
      "execution_count": 17,
      "outputs": [
        {
          "output_type": "execute_result",
          "data": {
            "text/plain": [
              "pandas.core.frame.DataFrame"
            ]
          },
          "metadata": {
            "tags": []
          },
          "execution_count": 17
        }
      ]
    },
    {
      "cell_type": "code",
      "metadata": {
        "id": "V7CtaqnRBazi"
      },
      "source": [
        "y = x.to_numpy()\r\n"
      ],
      "execution_count": 64,
      "outputs": []
    },
    {
      "cell_type": "code",
      "metadata": {
        "colab": {
          "base_uri": "https://localhost:8080/"
        },
        "id": "DjkSr7REUf0C",
        "outputId": "2fafa2ee-cfaa-44a8-8145-03fd93914400"
      },
      "source": [
        "type(y)"
      ],
      "execution_count": 65,
      "outputs": [
        {
          "output_type": "execute_result",
          "data": {
            "text/plain": [
              "numpy.ndarray"
            ]
          },
          "metadata": {
            "tags": []
          },
          "execution_count": 65
        }
      ]
    },
    {
      "cell_type": "code",
      "metadata": {
        "id": "HcEFn5gaVQ3p"
      },
      "source": [
        "for i in range(34,51):\r\n",
        "  r = r + (y[i+1,1] - y[i,1])/y[i,1]\r\n",
        "r = r/17"
      ],
      "execution_count": 67,
      "outputs": []
    },
    {
      "cell_type": "code",
      "metadata": {
        "colab": {
          "base_uri": "https://localhost:8080/"
        },
        "id": "H1Q2MlRjV7Gn",
        "outputId": "4f28af6e-00da-4313-bc51-a275c1b25fec"
      },
      "source": [
        "print(r)"
      ],
      "execution_count": 68,
      "outputs": [
        {
          "output_type": "stream",
          "text": [
            "0.20065881994294324\n"
          ],
          "name": "stdout"
        }
      ]
    },
    {
      "cell_type": "code",
      "metadata": {
        "id": "5hhh6AxDWAvp"
      },
      "source": [
        "import math\r\n",
        "P_t = 31*(math.exp(r*26))"
      ],
      "execution_count": 69,
      "outputs": []
    },
    {
      "cell_type": "code",
      "metadata": {
        "colab": {
          "base_uri": "https://localhost:8080/"
        },
        "id": "4_Z5z-NfWx9p",
        "outputId": "949fb6ae-04da-4a76-8852-d45fe241b972"
      },
      "source": [
        "print(P_t)"
      ],
      "execution_count": 70,
      "outputs": [
        {
          "output_type": "stream",
          "text": [
            "5716.525804451547\n"
          ],
          "name": "stdout"
        }
      ]
    },
    {
      "cell_type": "code",
      "metadata": {
        "id": "1LZK1iEDY3FM"
      },
      "source": [
        ""
      ],
      "execution_count": null,
      "outputs": []
    }
  ]
}