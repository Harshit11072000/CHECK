{
  "nbformat": 4,
  "nbformat_minor": 0,
  "metadata": {
    "colab": {
      "name": "MiningDataset.ipynb",
      "provenance": [],
      "collapsed_sections": [],
      "authorship_tag": "ABX9TyMel7gHoF8diX+7xvMdw49p",
      "include_colab_link": true
    },
    "kernelspec": {
      "name": "python3",
      "display_name": "Python 3"
    }
  },
  "cells": [
    {
      "cell_type": "markdown",
      "metadata": {
        "id": "view-in-github",
        "colab_type": "text"
      },
      "source": [
        "<a href=\"https://colab.research.google.com/github/Harshit11072000/CHECK/blob/master/MiningDataset.ipynb\" target=\"_parent\"><img src=\"https://colab.research.google.com/assets/colab-badge.svg\" alt=\"Open In Colab\"/></a>"
      ]
    },
    {
      "cell_type": "code",
      "metadata": {
        "id": "bw_g9osSX601"
      },
      "source": [
        "import numpy as np\n",
        "import pandas as pd\n"
      ],
      "execution_count": null,
      "outputs": []
    },
    {
      "cell_type": "code",
      "metadata": {
        "id": "KP48fAzXYPEp"
      },
      "source": [
        "d = pd.read_excel(\"DataSet.xlsx\",sheet_name='Raw')"
      ],
      "execution_count": null,
      "outputs": []
    },
    {
      "cell_type": "code",
      "metadata": {
        "colab": {
          "base_uri": "https://localhost:8080/"
        },
        "id": "BM1UzhG2vcdH",
        "outputId": "a2cbf9e2-1b7a-4984-e267-b891527c7cea"
      },
      "source": [
        "d.info()"
      ],
      "execution_count": null,
      "outputs": [
        {
          "output_type": "stream",
          "text": [
            "<class 'pandas.core.frame.DataFrame'>\n",
            "RangeIndex: 8043 entries, 0 to 8042\n",
            "Data columns (total 19 columns):\n",
            " #   Column             Non-Null Count  Dtype         \n",
            "---  ------             --------------  -----         \n",
            " 0   String             8043 non-null   object        \n",
            " 1   Site ID            8043 non-null   int64         \n",
            " 2   Tipper Device ID   8043 non-null   int64         \n",
            " 3   Date Time          8043 non-null   int64         \n",
            " 4   Latitude           8043 non-null   float64       \n",
            " 5   Longitude          8043 non-null   float64       \n",
            " 6   Altitude           8043 non-null   int64         \n",
            " 7   Speed              8043 non-null   int64         \n",
            " 8   Exc Dev ID         8043 non-null   int64         \n",
            " 9   RFID               8043 non-null   int64         \n",
            " 10  No. of Satellites  8043 non-null   int64         \n",
            " 11  Date Time.1        8043 non-null   int64         \n",
            " 12  IOs                8043 non-null   int64         \n",
            " 13  Time               8043 non-null   datetime64[ns]\n",
            " 14  Address            8043 non-null   int64         \n",
            " 15  Activity state     394 non-null    object        \n",
            " 16  Previous State     8043 non-null   object        \n",
            " 17  Activity State     8043 non-null   object        \n",
            " 18  Trip No            282 non-null    float64       \n",
            "dtypes: datetime64[ns](1), float64(3), int64(11), object(4)\n",
            "memory usage: 1.2+ MB\n"
          ],
          "name": "stdout"
        }
      ]
    },
    {
      "cell_type": "code",
      "metadata": {
        "id": "kcKFX7zT9j1J",
        "colab": {
          "base_uri": "https://localhost:8080/"
        },
        "outputId": "241d943d-c045-492b-970e-19bab45cbc0c"
      },
      "source": [
        "a = input('Enter the String:')"
      ],
      "execution_count": null,
      "outputs": [
        {
          "output_type": "stream",
          "text": [
            "Enter the String:010a5c37e4220e6227c53152ea4c017e00014b00007091180ac700000053d7e0\n"
          ],
          "name": "stdout"
        }
      ]
    },
    {
      "cell_type": "code",
      "metadata": {
        "id": "AWMx6OHMANg2"
      },
      "source": [
        "DT = a[4:12]\n",
        "LT = a[12:20]\n",
        "LG = a[20:28]\n",
        "AT = a[28:32]\n",
        "SD = a[32:34]\n",
        "EI = a[39:41]\n",
        "RF = a[40:48]\n",
        "BI = a[50:52]\n"
      ],
      "execution_count": null,
      "outputs": []
    },
    {
      "cell_type": "code",
      "metadata": {
        "colab": {
          "base_uri": "https://localhost:8080/"
        },
        "id": "POMLkSbRJDml",
        "outputId": "21aab7fa-395f-4636-fb83-6bbd69fea96f"
      },
      "source": [
        "print(DT,LT,LG,AT,SD,EI,RF,BI)"
      ],
      "execution_count": null,
      "outputs": [
        {
          "output_type": "stream",
          "text": [
            "5c37e422 0e6227c5 3152ea4c 017e 00 00 00709118 c7\n"
          ],
          "name": "stdout"
        }
      ]
    },
    {
      "cell_type": "code",
      "metadata": {
        "id": "MWMqtlbCJ74f"
      },
      "source": [
        "DT = int(DT,16)+19800\n",
        "LT = int(LT,16)/10000000\n",
        "LG = int(LG,16)/10000000\n",
        "AT = int(AT,16)\n",
        "SD = int(SD,16)\n",
        "EI = int(EI,16)\n",
        "RF = int(RF,16)"
      ],
      "execution_count": null,
      "outputs": []
    },
    {
      "cell_type": "code",
      "metadata": {
        "id": "lmLBBJ0i-XxP"
      },
      "source": [
        "n = int(BI, 16)  \n",
        "bStr = '' \n",
        "while n > 0: \n",
        "    bStr = str(n % 2) + bStr \n",
        "    n = n >> 1    \n",
        "BI = bStr "
      ],
      "execution_count": null,
      "outputs": []
    },
    {
      "cell_type": "code",
      "metadata": {
        "colab": {
          "base_uri": "https://localhost:8080/"
        },
        "id": "GfhYJbLpLD4u",
        "outputId": "64f35477-9ad2-4668-e253-e1ae6e28fd7c"
      },
      "source": [
        "print(DT,LT,LG,AT,SD,EI,RF,BI)"
      ],
      "execution_count": null,
      "outputs": [
        {
          "output_type": "stream",
          "text": [
            "1547186554 24.1313733 82.7517516 382 0 0 7377176 11000111\n"
          ],
          "name": "stdout"
        }
      ]
    },
    {
      "cell_type": "code",
      "metadata": {
        "id": "FLNuurPYDxp7"
      },
      "source": [
        "df1 = pd.DataFrame(\n",
        "    {\n",
        "        \"String\" : a,\n",
        "        \"Date Time\" : DT,\n",
        "        \"Latitude\" : LT,\n",
        "        \"Longitude\" : LG,\n",
        "        \"Altitude\" : AT,\n",
        "        \"Speed\" : SD,\n",
        "        \"Exc Dev ID\" : EI,\n",
        "        \"RFID\" : RF,\n",
        "        \"IOs\" : BI  \n",
        "    },\n",
        "    index = [0],\n",
        ")"
      ],
      "execution_count": null,
      "outputs": []
    },
    {
      "cell_type": "code",
      "metadata": {
        "colab": {
          "base_uri": "https://localhost:8080/",
          "height": 77
        },
        "id": "njogZTgYKrUV",
        "outputId": "67dc1054-87f0-4ee3-bd76-d7c745aa4251"
      },
      "source": [
        "df1"
      ],
      "execution_count": null,
      "outputs": [
        {
          "output_type": "execute_result",
          "data": {
            "text/html": [
              "<div>\n",
              "<style scoped>\n",
              "    .dataframe tbody tr th:only-of-type {\n",
              "        vertical-align: middle;\n",
              "    }\n",
              "\n",
              "    .dataframe tbody tr th {\n",
              "        vertical-align: top;\n",
              "    }\n",
              "\n",
              "    .dataframe thead th {\n",
              "        text-align: right;\n",
              "    }\n",
              "</style>\n",
              "<table border=\"1\" class=\"dataframe\">\n",
              "  <thead>\n",
              "    <tr style=\"text-align: right;\">\n",
              "      <th></th>\n",
              "      <th>String</th>\n",
              "      <th>Date Time</th>\n",
              "      <th>Latitude</th>\n",
              "      <th>Longitude</th>\n",
              "      <th>Altitude</th>\n",
              "      <th>Speed</th>\n",
              "      <th>Exc Dev ID</th>\n",
              "      <th>RFID</th>\n",
              "      <th>IOs</th>\n",
              "    </tr>\n",
              "  </thead>\n",
              "  <tbody>\n",
              "    <tr>\n",
              "      <th>0</th>\n",
              "      <td>010a5c37e4220e6227c53152ea4c017e00014b00007091...</td>\n",
              "      <td>1547186554</td>\n",
              "      <td>24.131373</td>\n",
              "      <td>82.751752</td>\n",
              "      <td>382</td>\n",
              "      <td>0</td>\n",
              "      <td>0</td>\n",
              "      <td>7377176</td>\n",
              "      <td>11000111</td>\n",
              "    </tr>\n",
              "  </tbody>\n",
              "</table>\n",
              "</div>"
            ],
            "text/plain": [
              "                                              String  ...       IOs\n",
              "0  010a5c37e4220e6227c53152ea4c017e00014b00007091...  ...  11000111\n",
              "\n",
              "[1 rows x 9 columns]"
            ]
          },
          "metadata": {
            "tags": []
          },
          "execution_count": 59
        }
      ]
    },
    {
      "cell_type": "code",
      "metadata": {
        "id": "KxcZc9BBLABl"
      },
      "source": [
        "single = [d,df1]"
      ],
      "execution_count": null,
      "outputs": []
    },
    {
      "cell_type": "code",
      "metadata": {
        "id": "aFOobzc1UJ5u"
      },
      "source": [
        "d1 = pd.concat(single)"
      ],
      "execution_count": null,
      "outputs": []
    },
    {
      "cell_type": "code",
      "metadata": {
        "id": "0NQAr-NOLPWy",
        "colab": {
          "base_uri": "https://localhost:8080/"
        },
        "outputId": "0bfa49f9-f460-4927-c20f-93294edd049b"
      },
      "source": [
        "d1.info()"
      ],
      "execution_count": null,
      "outputs": [
        {
          "output_type": "stream",
          "text": [
            "<class 'pandas.core.frame.DataFrame'>\n",
            "Int64Index: 8044 entries, 0 to 0\n",
            "Data columns (total 19 columns):\n",
            " #   Column             Non-Null Count  Dtype         \n",
            "---  ------             --------------  -----         \n",
            " 0   String             8044 non-null   object        \n",
            " 1   Site ID            8043 non-null   float64       \n",
            " 2   Tipper Device ID   8043 non-null   float64       \n",
            " 3   Date Time          8044 non-null   int64         \n",
            " 4   Latitude           8044 non-null   float64       \n",
            " 5   Longitude          8044 non-null   float64       \n",
            " 6   Altitude           8044 non-null   int64         \n",
            " 7   Speed              8044 non-null   int64         \n",
            " 8   Exc Dev ID         8044 non-null   int64         \n",
            " 9   RFID               8044 non-null   int64         \n",
            " 10  No. of Satellites  8043 non-null   float64       \n",
            " 11  Date Time.1        8043 non-null   float64       \n",
            " 12  IOs                8044 non-null   object        \n",
            " 13  Time               8043 non-null   datetime64[ns]\n",
            " 14  Address            8043 non-null   float64       \n",
            " 15  Activity state     394 non-null    object        \n",
            " 16  Previous State     8043 non-null   object        \n",
            " 17  Activity State     8043 non-null   object        \n",
            " 18  Trip No            282 non-null    float64       \n",
            "dtypes: datetime64[ns](1), float64(8), int64(5), object(5)\n",
            "memory usage: 1.2+ MB\n"
          ],
          "name": "stdout"
        }
      ]
    },
    {
      "cell_type": "code",
      "metadata": {
        "colab": {
          "base_uri": "https://localhost:8080/",
          "height": 623
        },
        "id": "xHJd3UJVe1MA",
        "outputId": "5460bd45-4d4c-4a39-869c-b364e6666dfd"
      },
      "source": [
        "d1.drop(['String','Activity state'],axis=1)"
      ],
      "execution_count": null,
      "outputs": [
        {
          "output_type": "execute_result",
          "data": {
            "text/html": [
              "<div>\n",
              "<style scoped>\n",
              "    .dataframe tbody tr th:only-of-type {\n",
              "        vertical-align: middle;\n",
              "    }\n",
              "\n",
              "    .dataframe tbody tr th {\n",
              "        vertical-align: top;\n",
              "    }\n",
              "\n",
              "    .dataframe thead th {\n",
              "        text-align: right;\n",
              "    }\n",
              "</style>\n",
              "<table border=\"1\" class=\"dataframe\">\n",
              "  <thead>\n",
              "    <tr style=\"text-align: right;\">\n",
              "      <th></th>\n",
              "      <th>Site ID</th>\n",
              "      <th>Tipper Device ID</th>\n",
              "      <th>Date Time</th>\n",
              "      <th>Latitude</th>\n",
              "      <th>Longitude</th>\n",
              "      <th>Altitude</th>\n",
              "      <th>Speed</th>\n",
              "      <th>Exc Dev ID</th>\n",
              "      <th>RFID</th>\n",
              "      <th>No. of Satellites</th>\n",
              "      <th>Date Time.1</th>\n",
              "      <th>IOs</th>\n",
              "      <th>Time</th>\n",
              "      <th>Address</th>\n",
              "      <th>Previous State</th>\n",
              "      <th>Activity State</th>\n",
              "      <th>Trip No</th>\n",
              "    </tr>\n",
              "  </thead>\n",
              "  <tbody>\n",
              "    <tr>\n",
              "      <th>0</th>\n",
              "      <td>1</td>\n",
              "      <td>10</td>\n",
              "      <td>1547186554</td>\n",
              "      <td>24.131373</td>\n",
              "      <td>82.751752</td>\n",
              "      <td>382</td>\n",
              "      <td>0</td>\n",
              "      <td>0</td>\n",
              "      <td>7377176</td>\n",
              "      <td>10</td>\n",
              "      <td>1547186554</td>\n",
              "      <td>11000111</td>\n",
              "      <td>2019-01-11 06:02:33.792</td>\n",
              "      <td>63</td>\n",
              "      <td>TL</td>\n",
              "      <td>TL</td>\n",
              "      <td>NaN</td>\n",
              "    </tr>\n",
              "    <tr>\n",
              "      <th>1</th>\n",
              "      <td>1</td>\n",
              "      <td>10</td>\n",
              "      <td>1547186556</td>\n",
              "      <td>24.131373</td>\n",
              "      <td>82.751752</td>\n",
              "      <td>382</td>\n",
              "      <td>0</td>\n",
              "      <td>0</td>\n",
              "      <td>7377176</td>\n",
              "      <td>10</td>\n",
              "      <td>1547186556</td>\n",
              "      <td>10000111</td>\n",
              "      <td>2019-01-11 06:02:36.384</td>\n",
              "      <td>65</td>\n",
              "      <td>TL</td>\n",
              "      <td>TL</td>\n",
              "      <td>NaN</td>\n",
              "    </tr>\n",
              "    <tr>\n",
              "      <th>2</th>\n",
              "      <td>1</td>\n",
              "      <td>10</td>\n",
              "      <td>1547186558</td>\n",
              "      <td>24.131373</td>\n",
              "      <td>82.751752</td>\n",
              "      <td>382</td>\n",
              "      <td>0</td>\n",
              "      <td>0</td>\n",
              "      <td>7377176</td>\n",
              "      <td>10</td>\n",
              "      <td>1547186558</td>\n",
              "      <td>10000111</td>\n",
              "      <td>2019-01-11 06:02:38.112</td>\n",
              "      <td>67</td>\n",
              "      <td>TL</td>\n",
              "      <td>UL</td>\n",
              "      <td>365.0</td>\n",
              "    </tr>\n",
              "    <tr>\n",
              "      <th>3</th>\n",
              "      <td>1</td>\n",
              "      <td>10</td>\n",
              "      <td>1547186574</td>\n",
              "      <td>24.131373</td>\n",
              "      <td>82.751752</td>\n",
              "      <td>382</td>\n",
              "      <td>0</td>\n",
              "      <td>0</td>\n",
              "      <td>7377176</td>\n",
              "      <td>10</td>\n",
              "      <td>1547186574</td>\n",
              "      <td>10000111</td>\n",
              "      <td>2019-01-11 06:02:53.664</td>\n",
              "      <td>69</td>\n",
              "      <td>UL</td>\n",
              "      <td>UL</td>\n",
              "      <td>NaN</td>\n",
              "    </tr>\n",
              "    <tr>\n",
              "      <th>4</th>\n",
              "      <td>1</td>\n",
              "      <td>10</td>\n",
              "      <td>1547186589</td>\n",
              "      <td>24.131373</td>\n",
              "      <td>82.751752</td>\n",
              "      <td>382</td>\n",
              "      <td>0</td>\n",
              "      <td>0</td>\n",
              "      <td>7377176</td>\n",
              "      <td>9</td>\n",
              "      <td>1547186589</td>\n",
              "      <td>10000111</td>\n",
              "      <td>2019-01-11 06:03:09.216</td>\n",
              "      <td>71</td>\n",
              "      <td>UL</td>\n",
              "      <td>UL</td>\n",
              "      <td>NaN</td>\n",
              "    </tr>\n",
              "    <tr>\n",
              "      <th>...</th>\n",
              "      <td>...</td>\n",
              "      <td>...</td>\n",
              "      <td>...</td>\n",
              "      <td>...</td>\n",
              "      <td>...</td>\n",
              "      <td>...</td>\n",
              "      <td>...</td>\n",
              "      <td>...</td>\n",
              "      <td>...</td>\n",
              "      <td>...</td>\n",
              "      <td>...</td>\n",
              "      <td>...</td>\n",
              "      <td>...</td>\n",
              "      <td>...</td>\n",
              "      <td>...</td>\n",
              "      <td>...</td>\n",
              "      <td>...</td>\n",
              "    </tr>\n",
              "    <tr>\n",
              "      <th>8038</th>\n",
              "      <td>1</td>\n",
              "      <td>10</td>\n",
              "      <td>1547270488</td>\n",
              "      <td>24.134315</td>\n",
              "      <td>82.757307</td>\n",
              "      <td>322</td>\n",
              "      <td>20</td>\n",
              "      <td>0</td>\n",
              "      <td>7377176</td>\n",
              "      <td>11</td>\n",
              "      <td>1547270488</td>\n",
              "      <td>11000111</td>\n",
              "      <td>2019-01-12 05:21:27.936</td>\n",
              "      <td>40</td>\n",
              "      <td>TE</td>\n",
              "      <td>TE</td>\n",
              "      <td>NaN</td>\n",
              "    </tr>\n",
              "    <tr>\n",
              "      <th>8039</th>\n",
              "      <td>1</td>\n",
              "      <td>10</td>\n",
              "      <td>1547270503</td>\n",
              "      <td>24.135060</td>\n",
              "      <td>82.757113</td>\n",
              "      <td>323</td>\n",
              "      <td>18</td>\n",
              "      <td>0</td>\n",
              "      <td>7377176</td>\n",
              "      <td>11</td>\n",
              "      <td>1547270503</td>\n",
              "      <td>11000111</td>\n",
              "      <td>2019-01-12 05:21:42.624</td>\n",
              "      <td>42</td>\n",
              "      <td>TE</td>\n",
              "      <td>TE</td>\n",
              "      <td>NaN</td>\n",
              "    </tr>\n",
              "    <tr>\n",
              "      <th>8040</th>\n",
              "      <td>1</td>\n",
              "      <td>10</td>\n",
              "      <td>1547270518</td>\n",
              "      <td>24.135367</td>\n",
              "      <td>82.756353</td>\n",
              "      <td>322</td>\n",
              "      <td>20</td>\n",
              "      <td>0</td>\n",
              "      <td>7377176</td>\n",
              "      <td>12</td>\n",
              "      <td>1547270518</td>\n",
              "      <td>11000111</td>\n",
              "      <td>2019-01-12 05:21:58.176</td>\n",
              "      <td>44</td>\n",
              "      <td>TE</td>\n",
              "      <td>TE</td>\n",
              "      <td>NaN</td>\n",
              "    </tr>\n",
              "    <tr>\n",
              "      <th>8041</th>\n",
              "      <td>1</td>\n",
              "      <td>10</td>\n",
              "      <td>1547270533</td>\n",
              "      <td>24.135453</td>\n",
              "      <td>82.755627</td>\n",
              "      <td>317</td>\n",
              "      <td>9</td>\n",
              "      <td>0</td>\n",
              "      <td>7377176</td>\n",
              "      <td>12</td>\n",
              "      <td>1547270533</td>\n",
              "      <td>11000111</td>\n",
              "      <td>2019-01-12 05:22:12.864</td>\n",
              "      <td>46</td>\n",
              "      <td>TE</td>\n",
              "      <td>TE</td>\n",
              "      <td>NaN</td>\n",
              "    </tr>\n",
              "    <tr>\n",
              "      <th>8042</th>\n",
              "      <td>1</td>\n",
              "      <td>10</td>\n",
              "      <td>1547270548</td>\n",
              "      <td>24.135470</td>\n",
              "      <td>82.755575</td>\n",
              "      <td>316</td>\n",
              "      <td>0</td>\n",
              "      <td>0</td>\n",
              "      <td>7377176</td>\n",
              "      <td>11</td>\n",
              "      <td>1547270548</td>\n",
              "      <td>11000111</td>\n",
              "      <td>2019-01-12 05:22:28.416</td>\n",
              "      <td>48</td>\n",
              "      <td>TE</td>\n",
              "      <td>WL</td>\n",
              "      <td>417.0</td>\n",
              "    </tr>\n",
              "  </tbody>\n",
              "</table>\n",
              "<p>8043 rows × 17 columns</p>\n",
              "</div>"
            ],
            "text/plain": [
              "      Site ID  Tipper Device ID  ...  Activity State  Trip No\n",
              "0           1                10  ...              TL      NaN\n",
              "1           1                10  ...              TL      NaN\n",
              "2           1                10  ...              UL    365.0\n",
              "3           1                10  ...              UL      NaN\n",
              "4           1                10  ...              UL      NaN\n",
              "...       ...               ...  ...             ...      ...\n",
              "8038        1                10  ...              TE      NaN\n",
              "8039        1                10  ...              TE      NaN\n",
              "8040        1                10  ...              TE      NaN\n",
              "8041        1                10  ...              TE      NaN\n",
              "8042        1                10  ...              WL    417.0\n",
              "\n",
              "[8043 rows x 17 columns]"
            ]
          },
          "metadata": {
            "tags": []
          },
          "execution_count": 61
        }
      ]
    },
    {
      "cell_type": "code",
      "metadata": {
        "colab": {
          "base_uri": "https://localhost:8080/"
        },
        "id": "Lr05hAnF6I75",
        "outputId": "fcc7616f-e2e0-4de0-db4d-25ceab02df4e"
      },
      "source": [
        "d1['RFID'].value_counts()"
      ],
      "execution_count": null,
      "outputs": [
        {
          "output_type": "execute_result",
          "data": {
            "text/plain": [
              "7377176    5920\n",
              "7872707    2123\n",
              "Name: RFID, dtype: int64"
            ]
          },
          "metadata": {
            "tags": []
          },
          "execution_count": 62
        }
      ]
    },
    {
      "cell_type": "code",
      "metadata": {
        "id": "lvxsgtiFYZw4"
      },
      "source": [
        "d2 = d1[['Longitude','Speed','Exc Dev ID','IOs','Previous State','Activity State','Address','No. of Satellites']]"
      ],
      "execution_count": null,
      "outputs": []
    },
    {
      "cell_type": "code",
      "metadata": {
        "colab": {
          "base_uri": "https://localhost:8080/"
        },
        "id": "5keoCCYZfyGO",
        "outputId": "18b644b8-4718-4ae9-e8db-34874fd86985"
      },
      "source": [
        "d2['Previous State'].value_counts()"
      ],
      "execution_count": null,
      "outputs": [
        {
          "output_type": "execute_result",
          "data": {
            "text/plain": [
              "LD    2864\n",
              "TL    1961\n",
              "TE    1219\n",
              "WL     604\n",
              "WT     379\n",
              "UL     332\n",
              "MN     330\n",
              "SE     174\n",
              "SL     105\n",
              "WD      71\n",
              "Ul       4\n",
              "Name: Previous State, dtype: int64"
            ]
          },
          "metadata": {
            "tags": []
          },
          "execution_count": 64
        }
      ]
    },
    {
      "cell_type": "code",
      "metadata": {
        "colab": {
          "base_uri": "https://localhost:8080/"
        },
        "id": "YvmGF-OkQeIh",
        "outputId": "353242e3-c233-43ce-bb3b-eff7630465c4"
      },
      "source": [
        "d2['IOs'] = d2['IOs']/1000000\n",
        "d2['IOs'] = d2['IOs'].astype('int')"
      ],
      "execution_count": null,
      "outputs": [
        {
          "output_type": "stream",
          "text": [
            "/usr/local/lib/python3.7/dist-packages/ipykernel_launcher.py:1: SettingWithCopyWarning: \n",
            "A value is trying to be set on a copy of a slice from a DataFrame.\n",
            "Try using .loc[row_indexer,col_indexer] = value instead\n",
            "\n",
            "See the caveats in the documentation: https://pandas.pydata.org/pandas-docs/stable/user_guide/indexing.html#returning-a-view-versus-a-copy\n",
            "  \"\"\"Entry point for launching an IPython kernel.\n",
            "/usr/local/lib/python3.7/dist-packages/ipykernel_launcher.py:2: SettingWithCopyWarning: \n",
            "A value is trying to be set on a copy of a slice from a DataFrame.\n",
            "Try using .loc[row_indexer,col_indexer] = value instead\n",
            "\n",
            "See the caveats in the documentation: https://pandas.pydata.org/pandas-docs/stable/user_guide/indexing.html#returning-a-view-versus-a-copy\n",
            "  \n"
          ],
          "name": "stderr"
        }
      ]
    },
    {
      "cell_type": "code",
      "metadata": {
        "id": "37A5e86RSDow"
      },
      "source": [
        "df = d2"
      ],
      "execution_count": null,
      "outputs": []
    },
    {
      "cell_type": "code",
      "metadata": {
        "id": "rkIYwtG5a-lu",
        "colab": {
          "base_uri": "https://localhost:8080/",
          "height": 86
        },
        "outputId": "3f34e0ed-8696-4fd7-9ee1-0adfe6853f18"
      },
      "source": [
        "\"\"\"def haversine(lat1, lon1, lat2, lon2, to_radians=True, earth_radius=6371):\n",
        "   \n",
        "    if to_radians:\n",
        "        lat1 = np.radians(lat1)\n",
        "        lat2 = np.radians(lat2)\n",
        "        lon1 = np.radians(lon1)\n",
        "        lon2 = np.radians(lon2)\n",
        "\n",
        "    a = np.sin((lat2-lat1)/2.0)**2 + \\\n",
        "        np.cos(lat1) * np.cos(lat2) * np.sin((lon2-lon1)/2.0)**2\n",
        "\n",
        "    return earth_radius * 2 * np.arcsin(np.sqrt(a))\n",
        "\n",
        "\n",
        "df['dist'] = \\\n",
        "    haversine(df.Latitude.shift(), df.Longitude.shift(),\n",
        "                df.loc[1:, 'Latitude'], df.loc[1:, 'Longitude'])\"\"\""
      ],
      "execution_count": null,
      "outputs": [
        {
          "output_type": "execute_result",
          "data": {
            "application/vnd.google.colaboratory.intrinsic+json": {
              "type": "string"
            },
            "text/plain": [
              "\"def haversine(lat1, lon1, lat2, lon2, to_radians=True, earth_radius=6371):\\n   \\n    if to_radians:\\n        lat1 = np.radians(lat1)\\n        lat2 = np.radians(lat2)\\n        lon1 = np.radians(lon1)\\n        lon2 = np.radians(lon2)\\n\\n    a = np.sin((lat2-lat1)/2.0)**2 +         np.cos(lat1) * np.cos(lat2) * np.sin((lon2-lon1)/2.0)**2\\n\\n    return earth_radius * 2 * np.arcsin(np.sqrt(a))\\n\\n\\ndf['dist'] =     haversine(df.Latitude.shift(), df.Longitude.shift(),\\n                df.loc[1:, 'Latitude'], df.loc[1:, 'Longitude'])\""
            ]
          },
          "metadata": {
            "tags": []
          },
          "execution_count": 67
        }
      ]
    },
    {
      "cell_type": "code",
      "metadata": {
        "id": "vD8U0HHuVNz0",
        "colab": {
          "base_uri": "https://localhost:8080/",
          "height": 402
        },
        "outputId": "f3b29ee3-4ef5-439b-c5a5-495430af3d1b"
      },
      "source": [
        "df "
      ],
      "execution_count": null,
      "outputs": [
        {
          "output_type": "execute_result",
          "data": {
            "text/html": [
              "<div>\n",
              "<style scoped>\n",
              "    .dataframe tbody tr th:only-of-type {\n",
              "        vertical-align: middle;\n",
              "    }\n",
              "\n",
              "    .dataframe tbody tr th {\n",
              "        vertical-align: top;\n",
              "    }\n",
              "\n",
              "    .dataframe thead th {\n",
              "        text-align: right;\n",
              "    }\n",
              "</style>\n",
              "<table border=\"1\" class=\"dataframe\">\n",
              "  <thead>\n",
              "    <tr style=\"text-align: right;\">\n",
              "      <th></th>\n",
              "      <th>Longitude</th>\n",
              "      <th>Speed</th>\n",
              "      <th>Exc Dev ID</th>\n",
              "      <th>IOs</th>\n",
              "      <th>Previous State</th>\n",
              "      <th>Activity State</th>\n",
              "      <th>Address</th>\n",
              "      <th>No. of Satellites</th>\n",
              "    </tr>\n",
              "  </thead>\n",
              "  <tbody>\n",
              "    <tr>\n",
              "      <th>0</th>\n",
              "      <td>82.751752</td>\n",
              "      <td>0</td>\n",
              "      <td>0</td>\n",
              "      <td>11</td>\n",
              "      <td>TL</td>\n",
              "      <td>TL</td>\n",
              "      <td>63</td>\n",
              "      <td>10</td>\n",
              "    </tr>\n",
              "    <tr>\n",
              "      <th>1</th>\n",
              "      <td>82.751752</td>\n",
              "      <td>0</td>\n",
              "      <td>0</td>\n",
              "      <td>10</td>\n",
              "      <td>TL</td>\n",
              "      <td>TL</td>\n",
              "      <td>65</td>\n",
              "      <td>10</td>\n",
              "    </tr>\n",
              "    <tr>\n",
              "      <th>2</th>\n",
              "      <td>82.751752</td>\n",
              "      <td>0</td>\n",
              "      <td>0</td>\n",
              "      <td>10</td>\n",
              "      <td>TL</td>\n",
              "      <td>UL</td>\n",
              "      <td>67</td>\n",
              "      <td>10</td>\n",
              "    </tr>\n",
              "    <tr>\n",
              "      <th>3</th>\n",
              "      <td>82.751752</td>\n",
              "      <td>0</td>\n",
              "      <td>0</td>\n",
              "      <td>10</td>\n",
              "      <td>UL</td>\n",
              "      <td>UL</td>\n",
              "      <td>69</td>\n",
              "      <td>10</td>\n",
              "    </tr>\n",
              "    <tr>\n",
              "      <th>4</th>\n",
              "      <td>82.751752</td>\n",
              "      <td>0</td>\n",
              "      <td>0</td>\n",
              "      <td>10</td>\n",
              "      <td>UL</td>\n",
              "      <td>UL</td>\n",
              "      <td>71</td>\n",
              "      <td>9</td>\n",
              "    </tr>\n",
              "    <tr>\n",
              "      <th>...</th>\n",
              "      <td>...</td>\n",
              "      <td>...</td>\n",
              "      <td>...</td>\n",
              "      <td>...</td>\n",
              "      <td>...</td>\n",
              "      <td>...</td>\n",
              "      <td>...</td>\n",
              "      <td>...</td>\n",
              "    </tr>\n",
              "    <tr>\n",
              "      <th>8038</th>\n",
              "      <td>82.757307</td>\n",
              "      <td>20</td>\n",
              "      <td>0</td>\n",
              "      <td>11</td>\n",
              "      <td>TE</td>\n",
              "      <td>TE</td>\n",
              "      <td>40</td>\n",
              "      <td>11</td>\n",
              "    </tr>\n",
              "    <tr>\n",
              "      <th>8039</th>\n",
              "      <td>82.757113</td>\n",
              "      <td>18</td>\n",
              "      <td>0</td>\n",
              "      <td>11</td>\n",
              "      <td>TE</td>\n",
              "      <td>TE</td>\n",
              "      <td>42</td>\n",
              "      <td>11</td>\n",
              "    </tr>\n",
              "    <tr>\n",
              "      <th>8040</th>\n",
              "      <td>82.756353</td>\n",
              "      <td>20</td>\n",
              "      <td>0</td>\n",
              "      <td>11</td>\n",
              "      <td>TE</td>\n",
              "      <td>TE</td>\n",
              "      <td>44</td>\n",
              "      <td>12</td>\n",
              "    </tr>\n",
              "    <tr>\n",
              "      <th>8041</th>\n",
              "      <td>82.755627</td>\n",
              "      <td>9</td>\n",
              "      <td>0</td>\n",
              "      <td>11</td>\n",
              "      <td>TE</td>\n",
              "      <td>TE</td>\n",
              "      <td>46</td>\n",
              "      <td>12</td>\n",
              "    </tr>\n",
              "    <tr>\n",
              "      <th>8042</th>\n",
              "      <td>82.755575</td>\n",
              "      <td>0</td>\n",
              "      <td>0</td>\n",
              "      <td>11</td>\n",
              "      <td>TE</td>\n",
              "      <td>WL</td>\n",
              "      <td>48</td>\n",
              "      <td>11</td>\n",
              "    </tr>\n",
              "  </tbody>\n",
              "</table>\n",
              "<p>8043 rows × 8 columns</p>\n",
              "</div>"
            ],
            "text/plain": [
              "      Longitude  Speed  Exc Dev ID  ...  Activity State Address No. of Satellites\n",
              "0     82.751752      0           0  ...              TL      63                10\n",
              "1     82.751752      0           0  ...              TL      65                10\n",
              "2     82.751752      0           0  ...              UL      67                10\n",
              "3     82.751752      0           0  ...              UL      69                10\n",
              "4     82.751752      0           0  ...              UL      71                 9\n",
              "...         ...    ...         ...  ...             ...     ...               ...\n",
              "8038  82.757307     20           0  ...              TE      40                11\n",
              "8039  82.757113     18           0  ...              TE      42                11\n",
              "8040  82.756353     20           0  ...              TE      44                12\n",
              "8041  82.755627      9           0  ...              TE      46                12\n",
              "8042  82.755575      0           0  ...              WL      48                11\n",
              "\n",
              "[8043 rows x 8 columns]"
            ]
          },
          "metadata": {
            "tags": []
          },
          "execution_count": 68
        }
      ]
    },
    {
      "cell_type": "code",
      "metadata": {
        "id": "nbieM5z5WANV",
        "colab": {
          "base_uri": "https://localhost:8080/"
        },
        "outputId": "118d4eb1-1d1e-49f5-b033-4e7ed853538b"
      },
      "source": [
        "df.loc[df['Activity State']=='LD','Activity State']=1\n",
        "df.loc[df['Activity State']=='TL','Activity State']=2\n",
        "df.loc[df['Activity State']=='TE','Activity State']=3\n",
        "df.loc[df['Activity State']=='WL','Activity State']=4\n",
        "df.loc[df['Activity State']=='WT','Activity State']=5\n",
        "df.loc[df['Activity State']=='UL','Activity State']=6\n",
        "df.loc[df['Activity State']=='MN','Activity State']=7\n",
        "df.loc[df['Activity State']=='SE','Activity State']=8\n",
        "df.loc[df['Activity State']=='SL','Activity State']=9\n",
        "df.loc[df['Activity State']=='WD','Activity State']=10\n",
        "df.loc[df['Activity State']=='Ul','Activity State']=11\n"
      ],
      "execution_count": null,
      "outputs": [
        {
          "output_type": "stream",
          "text": [
            "/usr/local/lib/python3.7/dist-packages/pandas/core/indexing.py:1763: SettingWithCopyWarning: \n",
            "A value is trying to be set on a copy of a slice from a DataFrame.\n",
            "Try using .loc[row_indexer,col_indexer] = value instead\n",
            "\n",
            "See the caveats in the documentation: https://pandas.pydata.org/pandas-docs/stable/user_guide/indexing.html#returning-a-view-versus-a-copy\n",
            "  isetter(loc, value)\n"
          ],
          "name": "stderr"
        }
      ]
    },
    {
      "cell_type": "code",
      "metadata": {
        "colab": {
          "base_uri": "https://localhost:8080/"
        },
        "id": "7hkB0QT3gi9y",
        "outputId": "4ef8677b-3d39-42f3-9e25-20311ce5e7e3"
      },
      "source": [
        "df.loc[df['Previous State']=='LD','Previous State']=1\n",
        "df.loc[df['Previous State']=='TL','Previous State']=2\n",
        "df.loc[df['Previous State']=='TE','Previous State']=3\n",
        "df.loc[df['Previous State']=='WL','Previous State']=4\n",
        "df.loc[df['Previous State']=='WT','Previous State']=5\n",
        "df.loc[df['Previous State']=='UL','Previous State']=6\n",
        "df.loc[df['Previous State']=='MN','Previous State']=7\n",
        "df.loc[df['Previous State']=='SE','Previous State']=8\n",
        "df.loc[df['Previous State']=='SL','Previous State']=9\n",
        "df.loc[df['Previous State']=='WD','Previous State']=10\n",
        "df.loc[df['Previous State']=='Ul','Previous State']=11"
      ],
      "execution_count": null,
      "outputs": [
        {
          "output_type": "stream",
          "text": [
            "/usr/local/lib/python3.7/dist-packages/pandas/core/indexing.py:1763: SettingWithCopyWarning: \n",
            "A value is trying to be set on a copy of a slice from a DataFrame.\n",
            "Try using .loc[row_indexer,col_indexer] = value instead\n",
            "\n",
            "See the caveats in the documentation: https://pandas.pydata.org/pandas-docs/stable/user_guide/indexing.html#returning-a-view-versus-a-copy\n",
            "  isetter(loc, value)\n"
          ],
          "name": "stderr"
        }
      ]
    },
    {
      "cell_type": "code",
      "metadata": {
        "colab": {
          "base_uri": "https://localhost:8080/"
        },
        "id": "LPDIGhqPgzx3",
        "outputId": "c0fd6e13-e96e-4a5f-f952-2f91b0a1b096"
      },
      "source": [
        "df['Activity State'] = df['Activity State'].astype('int')\n",
        "df['Previous State'] = df['Previous State'].astype('int')"
      ],
      "execution_count": null,
      "outputs": [
        {
          "output_type": "stream",
          "text": [
            "/usr/local/lib/python3.7/dist-packages/ipykernel_launcher.py:1: SettingWithCopyWarning: \n",
            "A value is trying to be set on a copy of a slice from a DataFrame.\n",
            "Try using .loc[row_indexer,col_indexer] = value instead\n",
            "\n",
            "See the caveats in the documentation: https://pandas.pydata.org/pandas-docs/stable/user_guide/indexing.html#returning-a-view-versus-a-copy\n",
            "  \"\"\"Entry point for launching an IPython kernel.\n",
            "/usr/local/lib/python3.7/dist-packages/ipykernel_launcher.py:2: SettingWithCopyWarning: \n",
            "A value is trying to be set on a copy of a slice from a DataFrame.\n",
            "Try using .loc[row_indexer,col_indexer] = value instead\n",
            "\n",
            "See the caveats in the documentation: https://pandas.pydata.org/pandas-docs/stable/user_guide/indexing.html#returning-a-view-versus-a-copy\n",
            "  \n"
          ],
          "name": "stderr"
        }
      ]
    },
    {
      "cell_type": "code",
      "metadata": {
        "colab": {
          "base_uri": "https://localhost:8080/",
          "height": 284
        },
        "id": "nquL74dohRlv",
        "outputId": "3a8b1268-f672-425d-f71b-4d2348983cc7"
      },
      "source": [
        "df.corr()"
      ],
      "execution_count": null,
      "outputs": [
        {
          "output_type": "execute_result",
          "data": {
            "text/html": [
              "<div>\n",
              "<style scoped>\n",
              "    .dataframe tbody tr th:only-of-type {\n",
              "        vertical-align: middle;\n",
              "    }\n",
              "\n",
              "    .dataframe tbody tr th {\n",
              "        vertical-align: top;\n",
              "    }\n",
              "\n",
              "    .dataframe thead th {\n",
              "        text-align: right;\n",
              "    }\n",
              "</style>\n",
              "<table border=\"1\" class=\"dataframe\">\n",
              "  <thead>\n",
              "    <tr style=\"text-align: right;\">\n",
              "      <th></th>\n",
              "      <th>Longitude</th>\n",
              "      <th>Speed</th>\n",
              "      <th>Exc Dev ID</th>\n",
              "      <th>IOs</th>\n",
              "      <th>Previous State</th>\n",
              "      <th>Activity State</th>\n",
              "      <th>Address</th>\n",
              "      <th>No. of Satellites</th>\n",
              "    </tr>\n",
              "  </thead>\n",
              "  <tbody>\n",
              "    <tr>\n",
              "      <th>Longitude</th>\n",
              "      <td>1.000000</td>\n",
              "      <td>0.462379</td>\n",
              "      <td>-0.332796</td>\n",
              "      <td>-0.188669</td>\n",
              "      <td>0.404673</td>\n",
              "      <td>0.408576</td>\n",
              "      <td>-0.006971</td>\n",
              "      <td>-0.341909</td>\n",
              "    </tr>\n",
              "    <tr>\n",
              "      <th>Speed</th>\n",
              "      <td>0.462379</td>\n",
              "      <td>1.000000</td>\n",
              "      <td>-0.307653</td>\n",
              "      <td>0.216451</td>\n",
              "      <td>-0.043402</td>\n",
              "      <td>-0.043263</td>\n",
              "      <td>-0.020621</td>\n",
              "      <td>-0.324702</td>\n",
              "    </tr>\n",
              "    <tr>\n",
              "      <th>Exc Dev ID</th>\n",
              "      <td>-0.332796</td>\n",
              "      <td>-0.307653</td>\n",
              "      <td>1.000000</td>\n",
              "      <td>0.171880</td>\n",
              "      <td>-0.051120</td>\n",
              "      <td>-0.050054</td>\n",
              "      <td>0.019947</td>\n",
              "      <td>0.589735</td>\n",
              "    </tr>\n",
              "    <tr>\n",
              "      <th>IOs</th>\n",
              "      <td>-0.188669</td>\n",
              "      <td>0.216451</td>\n",
              "      <td>0.171880</td>\n",
              "      <td>1.000000</td>\n",
              "      <td>-0.370910</td>\n",
              "      <td>-0.376855</td>\n",
              "      <td>-0.001589</td>\n",
              "      <td>0.228215</td>\n",
              "    </tr>\n",
              "    <tr>\n",
              "      <th>Previous State</th>\n",
              "      <td>0.404673</td>\n",
              "      <td>-0.043402</td>\n",
              "      <td>-0.051120</td>\n",
              "      <td>-0.370910</td>\n",
              "      <td>1.000000</td>\n",
              "      <td>0.956910</td>\n",
              "      <td>-0.000396</td>\n",
              "      <td>-0.179294</td>\n",
              "    </tr>\n",
              "    <tr>\n",
              "      <th>Activity State</th>\n",
              "      <td>0.408576</td>\n",
              "      <td>-0.043263</td>\n",
              "      <td>-0.050054</td>\n",
              "      <td>-0.376855</td>\n",
              "      <td>0.956910</td>\n",
              "      <td>1.000000</td>\n",
              "      <td>-0.002222</td>\n",
              "      <td>-0.180655</td>\n",
              "    </tr>\n",
              "    <tr>\n",
              "      <th>Address</th>\n",
              "      <td>-0.006971</td>\n",
              "      <td>-0.020621</td>\n",
              "      <td>0.019947</td>\n",
              "      <td>-0.001589</td>\n",
              "      <td>-0.000396</td>\n",
              "      <td>-0.002222</td>\n",
              "      <td>1.000000</td>\n",
              "      <td>0.005559</td>\n",
              "    </tr>\n",
              "    <tr>\n",
              "      <th>No. of Satellites</th>\n",
              "      <td>-0.341909</td>\n",
              "      <td>-0.324702</td>\n",
              "      <td>0.589735</td>\n",
              "      <td>0.228215</td>\n",
              "      <td>-0.179294</td>\n",
              "      <td>-0.180655</td>\n",
              "      <td>0.005559</td>\n",
              "      <td>1.000000</td>\n",
              "    </tr>\n",
              "  </tbody>\n",
              "</table>\n",
              "</div>"
            ],
            "text/plain": [
              "                   Longitude     Speed  ...   Address  No. of Satellites\n",
              "Longitude           1.000000  0.462379  ... -0.006971          -0.341909\n",
              "Speed               0.462379  1.000000  ... -0.020621          -0.324702\n",
              "Exc Dev ID         -0.332796 -0.307653  ...  0.019947           0.589735\n",
              "IOs                -0.188669  0.216451  ... -0.001589           0.228215\n",
              "Previous State      0.404673 -0.043402  ... -0.000396          -0.179294\n",
              "Activity State      0.408576 -0.043263  ... -0.002222          -0.180655\n",
              "Address            -0.006971 -0.020621  ...  1.000000           0.005559\n",
              "No. of Satellites  -0.341909 -0.324702  ...  0.005559           1.000000\n",
              "\n",
              "[8 rows x 8 columns]"
            ]
          },
          "metadata": {
            "tags": []
          },
          "execution_count": 72
        }
      ]
    },
    {
      "cell_type": "code",
      "metadata": {
        "id": "y27klMVntB3Q"
      },
      "source": [
        "df = df.drop('Address',axis=1)"
      ],
      "execution_count": null,
      "outputs": []
    },
    {
      "cell_type": "code",
      "metadata": {
        "id": "2kwbF5EyeYqe"
      },
      "source": [
        "#y = pd.get_dummies(df['Activity State'])\n",
        "y = df['Activity State']"
      ],
      "execution_count": null,
      "outputs": []
    },
    {
      "cell_type": "code",
      "metadata": {
        "id": "yac2EnoZzRUX"
      },
      "source": [
        "df['Ignite'] =  df['IOs']/10\n",
        "df['Hoist'] = df['IOs']%10\n",
        "df['Ignite'] = df['Ignite'].astype('int')"
      ],
      "execution_count": null,
      "outputs": []
    },
    {
      "cell_type": "code",
      "metadata": {
        "id": "Mb9OTRhKfxRR"
      },
      "source": [
        "df = df.drop(['Activity State','IOs'],axis=1)"
      ],
      "execution_count": null,
      "outputs": []
    },
    {
      "cell_type": "code",
      "metadata": {
        "colab": {
          "base_uri": "https://localhost:8080/",
          "height": 254
        },
        "id": "rFG6Ko0SvAs9",
        "outputId": "20caef71-e78e-4d93-9ee4-f4a7ae1fa0ce"
      },
      "source": [
        "df.corr()"
      ],
      "execution_count": null,
      "outputs": [
        {
          "output_type": "execute_result",
          "data": {
            "text/html": [
              "<div>\n",
              "<style scoped>\n",
              "    .dataframe tbody tr th:only-of-type {\n",
              "        vertical-align: middle;\n",
              "    }\n",
              "\n",
              "    .dataframe tbody tr th {\n",
              "        vertical-align: top;\n",
              "    }\n",
              "\n",
              "    .dataframe thead th {\n",
              "        text-align: right;\n",
              "    }\n",
              "</style>\n",
              "<table border=\"1\" class=\"dataframe\">\n",
              "  <thead>\n",
              "    <tr style=\"text-align: right;\">\n",
              "      <th></th>\n",
              "      <th>Longitude</th>\n",
              "      <th>Speed</th>\n",
              "      <th>Exc Dev ID</th>\n",
              "      <th>Previous State</th>\n",
              "      <th>No. of Satellites</th>\n",
              "      <th>Ignite</th>\n",
              "      <th>Hoist</th>\n",
              "    </tr>\n",
              "  </thead>\n",
              "  <tbody>\n",
              "    <tr>\n",
              "      <th>Longitude</th>\n",
              "      <td>1.000000</td>\n",
              "      <td>0.462379</td>\n",
              "      <td>-0.332796</td>\n",
              "      <td>0.404673</td>\n",
              "      <td>-0.341909</td>\n",
              "      <td>-0.182472</td>\n",
              "      <td>-0.214425</td>\n",
              "    </tr>\n",
              "    <tr>\n",
              "      <th>Speed</th>\n",
              "      <td>0.462379</td>\n",
              "      <td>1.000000</td>\n",
              "      <td>-0.307653</td>\n",
              "      <td>-0.043402</td>\n",
              "      <td>-0.324702</td>\n",
              "      <td>0.208938</td>\n",
              "      <td>0.249523</td>\n",
              "    </tr>\n",
              "    <tr>\n",
              "      <th>Exc Dev ID</th>\n",
              "      <td>-0.332796</td>\n",
              "      <td>-0.307653</td>\n",
              "      <td>1.000000</td>\n",
              "      <td>-0.051120</td>\n",
              "      <td>0.589735</td>\n",
              "      <td>0.165914</td>\n",
              "      <td>0.198142</td>\n",
              "    </tr>\n",
              "    <tr>\n",
              "      <th>Previous State</th>\n",
              "      <td>0.404673</td>\n",
              "      <td>-0.043402</td>\n",
              "      <td>-0.051120</td>\n",
              "      <td>1.000000</td>\n",
              "      <td>-0.179294</td>\n",
              "      <td>-0.358700</td>\n",
              "      <td>-0.421794</td>\n",
              "    </tr>\n",
              "    <tr>\n",
              "      <th>No. of Satellites</th>\n",
              "      <td>-0.341909</td>\n",
              "      <td>-0.324702</td>\n",
              "      <td>0.589735</td>\n",
              "      <td>-0.179294</td>\n",
              "      <td>1.000000</td>\n",
              "      <td>0.221995</td>\n",
              "      <td>0.248228</td>\n",
              "    </tr>\n",
              "    <tr>\n",
              "      <th>Ignite</th>\n",
              "      <td>-0.182472</td>\n",
              "      <td>0.208938</td>\n",
              "      <td>0.165914</td>\n",
              "      <td>-0.358700</td>\n",
              "      <td>0.221995</td>\n",
              "      <td>1.000000</td>\n",
              "      <td>0.833758</td>\n",
              "    </tr>\n",
              "    <tr>\n",
              "      <th>Hoist</th>\n",
              "      <td>-0.214425</td>\n",
              "      <td>0.249523</td>\n",
              "      <td>0.198142</td>\n",
              "      <td>-0.421794</td>\n",
              "      <td>0.248228</td>\n",
              "      <td>0.833758</td>\n",
              "      <td>1.000000</td>\n",
              "    </tr>\n",
              "  </tbody>\n",
              "</table>\n",
              "</div>"
            ],
            "text/plain": [
              "                   Longitude     Speed  ...    Ignite     Hoist\n",
              "Longitude           1.000000  0.462379  ... -0.182472 -0.214425\n",
              "Speed               0.462379  1.000000  ...  0.208938  0.249523\n",
              "Exc Dev ID         -0.332796 -0.307653  ...  0.165914  0.198142\n",
              "Previous State      0.404673 -0.043402  ... -0.358700 -0.421794\n",
              "No. of Satellites  -0.341909 -0.324702  ...  0.221995  0.248228\n",
              "Ignite             -0.182472  0.208938  ...  1.000000  0.833758\n",
              "Hoist              -0.214425  0.249523  ...  0.833758  1.000000\n",
              "\n",
              "[7 rows x 7 columns]"
            ]
          },
          "metadata": {
            "tags": []
          },
          "execution_count": 77
        }
      ]
    },
    {
      "cell_type": "code",
      "metadata": {
        "id": "StIcq-Ie7Cb0"
      },
      "source": [
        "#df = df.drop('Longitude',axis=1)"
      ],
      "execution_count": null,
      "outputs": []
    },
    {
      "cell_type": "code",
      "metadata": {
        "id": "BNwwlYJzh_x4"
      },
      "source": [
        "X = df.iloc[:,:].values"
      ],
      "execution_count": null,
      "outputs": []
    },
    {
      "cell_type": "code",
      "metadata": {
        "id": "lVH1qLzOEg0H"
      },
      "source": [
        "y = y.astype('int')"
      ],
      "execution_count": null,
      "outputs": []
    },
    {
      "cell_type": "code",
      "metadata": {
        "id": "eO_JGYoQjTZ2"
      },
      "source": [
        "from sklearn.model_selection import train_test_split\n",
        "X_train,X_test,Y_train,Y_test = train_test_split(X,y,test_size = 0.2)"
      ],
      "execution_count": null,
      "outputs": []
    },
    {
      "cell_type": "code",
      "metadata": {
        "id": "tlYDSOWljakL",
        "colab": {
          "base_uri": "https://localhost:8080/"
        },
        "outputId": "b9fae02b-6c96-4c6a-93f2-401c64df8036"
      },
      "source": [
        "from sklearn.ensemble import RandomForestClassifier\n",
        "lr = RandomForestClassifier()\n",
        "lr.fit(X_train, Y_train)"
      ],
      "execution_count": null,
      "outputs": [
        {
          "output_type": "execute_result",
          "data": {
            "text/plain": [
              "RandomForestClassifier(bootstrap=True, ccp_alpha=0.0, class_weight=None,\n",
              "                       criterion='gini', max_depth=None, max_features='auto',\n",
              "                       max_leaf_nodes=None, max_samples=None,\n",
              "                       min_impurity_decrease=0.0, min_impurity_split=None,\n",
              "                       min_samples_leaf=1, min_samples_split=2,\n",
              "                       min_weight_fraction_leaf=0.0, n_estimators=100,\n",
              "                       n_jobs=None, oob_score=False, random_state=None,\n",
              "                       verbose=0, warm_start=False)"
            ]
          },
          "metadata": {
            "tags": []
          },
          "execution_count": 82
        }
      ]
    },
    {
      "cell_type": "code",
      "metadata": {
        "id": "Mdh5SYlnj1MY"
      },
      "source": [
        "from sklearn.metrics import accuracy_score\n",
        "ac = accuracy_score(Y_test,lr.predict(X_test))\n",
        "ac1 = accuracy_score(Y_train,lr.predict(X_train))"
      ],
      "execution_count": null,
      "outputs": []
    },
    {
      "cell_type": "code",
      "metadata": {
        "id": "QK48jYZnmKqM",
        "colab": {
          "base_uri": "https://localhost:8080/"
        },
        "outputId": "2d352195-1973-47c4-ec93-f2fc49bb981f"
      },
      "source": [
        "print(ac*100)\n",
        "print(ac1*100)"
      ],
      "execution_count": null,
      "outputs": [
        {
          "output_type": "stream",
          "text": [
            "96.95463020509634\n",
            "99.42493005906124\n"
          ],
          "name": "stdout"
        }
      ]
    }
  ]
}