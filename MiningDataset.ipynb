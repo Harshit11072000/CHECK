{
  "nbformat": 4,
  "nbformat_minor": 0,
  "metadata": {
    "colab": {
      "name": "MiningDataset.ipynb",
      "provenance": [],
      "collapsed_sections": [],
      "authorship_tag": "ABX9TyM9rz5Hm8HWDERwHxo9Owv6",
      "include_colab_link": true
    },
    "kernelspec": {
      "name": "python3",
      "display_name": "Python 3"
    }
  },
  "cells": [
    {
      "cell_type": "markdown",
      "metadata": {
        "id": "view-in-github",
        "colab_type": "text"
      },
      "source": [
        "<a href=\"https://colab.research.google.com/github/Harshit11072000/CHECK/blob/master/MiningDataset.ipynb\" target=\"_parent\"><img src=\"https://colab.research.google.com/assets/colab-badge.svg\" alt=\"Open In Colab\"/></a>"
      ]
    },
    {
      "cell_type": "code",
      "metadata": {
        "id": "bw_g9osSX601"
      },
      "source": [
        "import numpy as np\n",
        "import pandas as pd\n"
      ],
      "execution_count": 101,
      "outputs": []
    },
    {
      "cell_type": "code",
      "metadata": {
        "id": "KP48fAzXYPEp"
      },
      "source": [
        "d = pd.read_excel(\"DataSet.xlsx\",sheet_name='Raw')"
      ],
      "execution_count": 102,
      "outputs": []
    },
    {
      "cell_type": "code",
      "metadata": {
        "colab": {
          "base_uri": "https://localhost:8080/"
        },
        "id": "BM1UzhG2vcdH",
        "outputId": "b53017a9-aa8c-41eb-9eb5-827050fdab39"
      },
      "source": [
        "d.info()"
      ],
      "execution_count": 103,
      "outputs": [
        {
          "output_type": "stream",
          "text": [
            "<class 'pandas.core.frame.DataFrame'>\n",
            "RangeIndex: 8043 entries, 0 to 8042\n",
            "Data columns (total 19 columns):\n",
            " #   Column             Non-Null Count  Dtype         \n",
            "---  ------             --------------  -----         \n",
            " 0   String             8043 non-null   object        \n",
            " 1   Site ID            8043 non-null   int64         \n",
            " 2   Tipper Device ID   8043 non-null   int64         \n",
            " 3   Date Time          8043 non-null   int64         \n",
            " 4   Latitude           8043 non-null   float64       \n",
            " 5   Longitude          8043 non-null   float64       \n",
            " 6   Altitude           8043 non-null   int64         \n",
            " 7   Speed              8043 non-null   int64         \n",
            " 8   Exc Dev ID         8043 non-null   int64         \n",
            " 9   RFID               8043 non-null   int64         \n",
            " 10  No. of Satellites  8043 non-null   int64         \n",
            " 11  Date Time.1        8043 non-null   int64         \n",
            " 12  IOs                8043 non-null   int64         \n",
            " 13  Time               8043 non-null   datetime64[ns]\n",
            " 14  Address            8043 non-null   int64         \n",
            " 15  Activity state     394 non-null    object        \n",
            " 16  Previous State     8043 non-null   object        \n",
            " 17  Activity State     8043 non-null   object        \n",
            " 18  Trip No            282 non-null    float64       \n",
            "dtypes: datetime64[ns](1), float64(3), int64(11), object(4)\n",
            "memory usage: 1.2+ MB\n"
          ],
          "name": "stdout"
        }
      ]
    },
    {
      "cell_type": "code",
      "metadata": {
        "id": "MWMqtlbCJ74f"
      },
      "source": [
        "#DT = int(DT,16)+19800\n",
        "#LT = int(LT,16)/10000000\n",
        "#LG = int(LG,16)/10000000\n",
        "#AT = int(AT,16)\n",
        "#SD = int(SD,16)\n",
        "#EI = int(EI,16)\n",
        "#RF = int(RF,16)"
      ],
      "execution_count": 104,
      "outputs": []
    },
    {
      "cell_type": "code",
      "metadata": {
        "id": "lmLBBJ0i-XxP"
      },
      "source": [
        "#n = int(BI, 16)  \n",
        "#bStr = '' \n",
        "#while n > 0: \n",
        "#    bStr = str(n % 2) + bStr \n",
        "#    n = n >> 1    \n",
        "#BI = bStr "
      ],
      "execution_count": 105,
      "outputs": []
    },
    {
      "cell_type": "code",
      "metadata": {
        "id": "GfhYJbLpLD4u"
      },
      "source": [
        "d1 = d"
      ],
      "execution_count": 106,
      "outputs": []
    },
    {
      "cell_type": "code",
      "metadata": {
        "colab": {
          "base_uri": "https://localhost:8080/",
          "height": 341
        },
        "id": "o7OaYvWSIbEI",
        "outputId": "923e5f73-36d2-4a1d-c3af-42695665cb89"
      },
      "source": [
        "d1.head()"
      ],
      "execution_count": 107,
      "outputs": [
        {
          "output_type": "execute_result",
          "data": {
            "text/html": [
              "<div>\n",
              "<style scoped>\n",
              "    .dataframe tbody tr th:only-of-type {\n",
              "        vertical-align: middle;\n",
              "    }\n",
              "\n",
              "    .dataframe tbody tr th {\n",
              "        vertical-align: top;\n",
              "    }\n",
              "\n",
              "    .dataframe thead th {\n",
              "        text-align: right;\n",
              "    }\n",
              "</style>\n",
              "<table border=\"1\" class=\"dataframe\">\n",
              "  <thead>\n",
              "    <tr style=\"text-align: right;\">\n",
              "      <th></th>\n",
              "      <th>String</th>\n",
              "      <th>Site ID</th>\n",
              "      <th>Tipper Device ID</th>\n",
              "      <th>Date Time</th>\n",
              "      <th>Latitude</th>\n",
              "      <th>Longitude</th>\n",
              "      <th>Altitude</th>\n",
              "      <th>Speed</th>\n",
              "      <th>Exc Dev ID</th>\n",
              "      <th>RFID</th>\n",
              "      <th>No. of Satellites</th>\n",
              "      <th>Date Time.1</th>\n",
              "      <th>IOs</th>\n",
              "      <th>Time</th>\n",
              "      <th>Address</th>\n",
              "      <th>Activity state</th>\n",
              "      <th>Previous State</th>\n",
              "      <th>Activity State</th>\n",
              "      <th>Trip No</th>\n",
              "    </tr>\n",
              "  </thead>\n",
              "  <tbody>\n",
              "    <tr>\n",
              "      <th>0</th>\n",
              "      <td>010a5c37e4220e6227c53152ea4c017e00014b00007091...</td>\n",
              "      <td>1</td>\n",
              "      <td>10</td>\n",
              "      <td>1547186554</td>\n",
              "      <td>24.131373</td>\n",
              "      <td>82.751752</td>\n",
              "      <td>382</td>\n",
              "      <td>0</td>\n",
              "      <td>0</td>\n",
              "      <td>7377176</td>\n",
              "      <td>10</td>\n",
              "      <td>1547186554</td>\n",
              "      <td>11000111</td>\n",
              "      <td>2019-01-11 06:02:33.792</td>\n",
              "      <td>63</td>\n",
              "      <td>TL</td>\n",
              "      <td>TL</td>\n",
              "      <td>TL</td>\n",
              "      <td>NaN</td>\n",
              "    </tr>\n",
              "    <tr>\n",
              "      <th>1</th>\n",
              "      <td>010a5c37e4240e6227c53152ea4c017e00014b00007091...</td>\n",
              "      <td>1</td>\n",
              "      <td>10</td>\n",
              "      <td>1547186556</td>\n",
              "      <td>24.131373</td>\n",
              "      <td>82.751752</td>\n",
              "      <td>382</td>\n",
              "      <td>0</td>\n",
              "      <td>0</td>\n",
              "      <td>7377176</td>\n",
              "      <td>10</td>\n",
              "      <td>1547186556</td>\n",
              "      <td>10000111</td>\n",
              "      <td>2019-01-11 06:02:36.384</td>\n",
              "      <td>65</td>\n",
              "      <td>TL</td>\n",
              "      <td>TL</td>\n",
              "      <td>TL</td>\n",
              "      <td>NaN</td>\n",
              "    </tr>\n",
              "    <tr>\n",
              "      <th>2</th>\n",
              "      <td>010a5c37e4260e6227c53152ea4c017e00014b00007091...</td>\n",
              "      <td>1</td>\n",
              "      <td>10</td>\n",
              "      <td>1547186558</td>\n",
              "      <td>24.131373</td>\n",
              "      <td>82.751752</td>\n",
              "      <td>382</td>\n",
              "      <td>0</td>\n",
              "      <td>0</td>\n",
              "      <td>7377176</td>\n",
              "      <td>10</td>\n",
              "      <td>1547186558</td>\n",
              "      <td>10000111</td>\n",
              "      <td>2019-01-11 06:02:38.112</td>\n",
              "      <td>67</td>\n",
              "      <td>UL</td>\n",
              "      <td>TL</td>\n",
              "      <td>UL</td>\n",
              "      <td>365.0</td>\n",
              "    </tr>\n",
              "    <tr>\n",
              "      <th>3</th>\n",
              "      <td>010a5c37e4360e6227c53152ea4c017e00014b00007091...</td>\n",
              "      <td>1</td>\n",
              "      <td>10</td>\n",
              "      <td>1547186574</td>\n",
              "      <td>24.131373</td>\n",
              "      <td>82.751752</td>\n",
              "      <td>382</td>\n",
              "      <td>0</td>\n",
              "      <td>0</td>\n",
              "      <td>7377176</td>\n",
              "      <td>10</td>\n",
              "      <td>1547186574</td>\n",
              "      <td>10000111</td>\n",
              "      <td>2019-01-11 06:02:53.664</td>\n",
              "      <td>69</td>\n",
              "      <td>UL</td>\n",
              "      <td>UL</td>\n",
              "      <td>UL</td>\n",
              "      <td>NaN</td>\n",
              "    </tr>\n",
              "    <tr>\n",
              "      <th>4</th>\n",
              "      <td>010a5c37e4450e6227c53152ea4c017e00014b00007091...</td>\n",
              "      <td>1</td>\n",
              "      <td>10</td>\n",
              "      <td>1547186589</td>\n",
              "      <td>24.131373</td>\n",
              "      <td>82.751752</td>\n",
              "      <td>382</td>\n",
              "      <td>0</td>\n",
              "      <td>0</td>\n",
              "      <td>7377176</td>\n",
              "      <td>9</td>\n",
              "      <td>1547186589</td>\n",
              "      <td>10000111</td>\n",
              "      <td>2019-01-11 06:03:09.216</td>\n",
              "      <td>71</td>\n",
              "      <td>UL</td>\n",
              "      <td>UL</td>\n",
              "      <td>UL</td>\n",
              "      <td>NaN</td>\n",
              "    </tr>\n",
              "  </tbody>\n",
              "</table>\n",
              "</div>"
            ],
            "text/plain": [
              "                                              String  ...  Trip No\n",
              "0  010a5c37e4220e6227c53152ea4c017e00014b00007091...  ...      NaN\n",
              "1  010a5c37e4240e6227c53152ea4c017e00014b00007091...  ...      NaN\n",
              "2  010a5c37e4260e6227c53152ea4c017e00014b00007091...  ...    365.0\n",
              "3  010a5c37e4360e6227c53152ea4c017e00014b00007091...  ...      NaN\n",
              "4  010a5c37e4450e6227c53152ea4c017e00014b00007091...  ...      NaN\n",
              "\n",
              "[5 rows x 19 columns]"
            ]
          },
          "metadata": {},
          "execution_count": 107
        }
      ]
    },
    {
      "cell_type": "code",
      "metadata": {
        "id": "0NQAr-NOLPWy",
        "colab": {
          "base_uri": "https://localhost:8080/"
        },
        "outputId": "a3575aa5-0191-4c5f-d271-4db2d75e7b35"
      },
      "source": [
        "d1.info()"
      ],
      "execution_count": 108,
      "outputs": [
        {
          "output_type": "stream",
          "text": [
            "<class 'pandas.core.frame.DataFrame'>\n",
            "RangeIndex: 8043 entries, 0 to 8042\n",
            "Data columns (total 19 columns):\n",
            " #   Column             Non-Null Count  Dtype         \n",
            "---  ------             --------------  -----         \n",
            " 0   String             8043 non-null   object        \n",
            " 1   Site ID            8043 non-null   int64         \n",
            " 2   Tipper Device ID   8043 non-null   int64         \n",
            " 3   Date Time          8043 non-null   int64         \n",
            " 4   Latitude           8043 non-null   float64       \n",
            " 5   Longitude          8043 non-null   float64       \n",
            " 6   Altitude           8043 non-null   int64         \n",
            " 7   Speed              8043 non-null   int64         \n",
            " 8   Exc Dev ID         8043 non-null   int64         \n",
            " 9   RFID               8043 non-null   int64         \n",
            " 10  No. of Satellites  8043 non-null   int64         \n",
            " 11  Date Time.1        8043 non-null   int64         \n",
            " 12  IOs                8043 non-null   int64         \n",
            " 13  Time               8043 non-null   datetime64[ns]\n",
            " 14  Address            8043 non-null   int64         \n",
            " 15  Activity state     394 non-null    object        \n",
            " 16  Previous State     8043 non-null   object        \n",
            " 17  Activity State     8043 non-null   object        \n",
            " 18  Trip No            282 non-null    float64       \n",
            "dtypes: datetime64[ns](1), float64(3), int64(11), object(4)\n",
            "memory usage: 1.2+ MB\n"
          ],
          "name": "stdout"
        }
      ]
    },
    {
      "cell_type": "code",
      "metadata": {
        "colab": {
          "base_uri": "https://localhost:8080/",
          "height": 638
        },
        "id": "xHJd3UJVe1MA",
        "outputId": "c8ab4db0-ff96-46a7-a933-15de1d66c199"
      },
      "source": [
        "d1.drop(['String','Activity state'],axis=1)"
      ],
      "execution_count": 109,
      "outputs": [
        {
          "output_type": "execute_result",
          "data": {
            "text/html": [
              "<div>\n",
              "<style scoped>\n",
              "    .dataframe tbody tr th:only-of-type {\n",
              "        vertical-align: middle;\n",
              "    }\n",
              "\n",
              "    .dataframe tbody tr th {\n",
              "        vertical-align: top;\n",
              "    }\n",
              "\n",
              "    .dataframe thead th {\n",
              "        text-align: right;\n",
              "    }\n",
              "</style>\n",
              "<table border=\"1\" class=\"dataframe\">\n",
              "  <thead>\n",
              "    <tr style=\"text-align: right;\">\n",
              "      <th></th>\n",
              "      <th>Site ID</th>\n",
              "      <th>Tipper Device ID</th>\n",
              "      <th>Date Time</th>\n",
              "      <th>Latitude</th>\n",
              "      <th>Longitude</th>\n",
              "      <th>Altitude</th>\n",
              "      <th>Speed</th>\n",
              "      <th>Exc Dev ID</th>\n",
              "      <th>RFID</th>\n",
              "      <th>No. of Satellites</th>\n",
              "      <th>Date Time.1</th>\n",
              "      <th>IOs</th>\n",
              "      <th>Time</th>\n",
              "      <th>Address</th>\n",
              "      <th>Previous State</th>\n",
              "      <th>Activity State</th>\n",
              "      <th>Trip No</th>\n",
              "    </tr>\n",
              "  </thead>\n",
              "  <tbody>\n",
              "    <tr>\n",
              "      <th>0</th>\n",
              "      <td>1</td>\n",
              "      <td>10</td>\n",
              "      <td>1547186554</td>\n",
              "      <td>24.131373</td>\n",
              "      <td>82.751752</td>\n",
              "      <td>382</td>\n",
              "      <td>0</td>\n",
              "      <td>0</td>\n",
              "      <td>7377176</td>\n",
              "      <td>10</td>\n",
              "      <td>1547186554</td>\n",
              "      <td>11000111</td>\n",
              "      <td>2019-01-11 06:02:33.792</td>\n",
              "      <td>63</td>\n",
              "      <td>TL</td>\n",
              "      <td>TL</td>\n",
              "      <td>NaN</td>\n",
              "    </tr>\n",
              "    <tr>\n",
              "      <th>1</th>\n",
              "      <td>1</td>\n",
              "      <td>10</td>\n",
              "      <td>1547186556</td>\n",
              "      <td>24.131373</td>\n",
              "      <td>82.751752</td>\n",
              "      <td>382</td>\n",
              "      <td>0</td>\n",
              "      <td>0</td>\n",
              "      <td>7377176</td>\n",
              "      <td>10</td>\n",
              "      <td>1547186556</td>\n",
              "      <td>10000111</td>\n",
              "      <td>2019-01-11 06:02:36.384</td>\n",
              "      <td>65</td>\n",
              "      <td>TL</td>\n",
              "      <td>TL</td>\n",
              "      <td>NaN</td>\n",
              "    </tr>\n",
              "    <tr>\n",
              "      <th>2</th>\n",
              "      <td>1</td>\n",
              "      <td>10</td>\n",
              "      <td>1547186558</td>\n",
              "      <td>24.131373</td>\n",
              "      <td>82.751752</td>\n",
              "      <td>382</td>\n",
              "      <td>0</td>\n",
              "      <td>0</td>\n",
              "      <td>7377176</td>\n",
              "      <td>10</td>\n",
              "      <td>1547186558</td>\n",
              "      <td>10000111</td>\n",
              "      <td>2019-01-11 06:02:38.112</td>\n",
              "      <td>67</td>\n",
              "      <td>TL</td>\n",
              "      <td>UL</td>\n",
              "      <td>365.0</td>\n",
              "    </tr>\n",
              "    <tr>\n",
              "      <th>3</th>\n",
              "      <td>1</td>\n",
              "      <td>10</td>\n",
              "      <td>1547186574</td>\n",
              "      <td>24.131373</td>\n",
              "      <td>82.751752</td>\n",
              "      <td>382</td>\n",
              "      <td>0</td>\n",
              "      <td>0</td>\n",
              "      <td>7377176</td>\n",
              "      <td>10</td>\n",
              "      <td>1547186574</td>\n",
              "      <td>10000111</td>\n",
              "      <td>2019-01-11 06:02:53.664</td>\n",
              "      <td>69</td>\n",
              "      <td>UL</td>\n",
              "      <td>UL</td>\n",
              "      <td>NaN</td>\n",
              "    </tr>\n",
              "    <tr>\n",
              "      <th>4</th>\n",
              "      <td>1</td>\n",
              "      <td>10</td>\n",
              "      <td>1547186589</td>\n",
              "      <td>24.131373</td>\n",
              "      <td>82.751752</td>\n",
              "      <td>382</td>\n",
              "      <td>0</td>\n",
              "      <td>0</td>\n",
              "      <td>7377176</td>\n",
              "      <td>9</td>\n",
              "      <td>1547186589</td>\n",
              "      <td>10000111</td>\n",
              "      <td>2019-01-11 06:03:09.216</td>\n",
              "      <td>71</td>\n",
              "      <td>UL</td>\n",
              "      <td>UL</td>\n",
              "      <td>NaN</td>\n",
              "    </tr>\n",
              "    <tr>\n",
              "      <th>...</th>\n",
              "      <td>...</td>\n",
              "      <td>...</td>\n",
              "      <td>...</td>\n",
              "      <td>...</td>\n",
              "      <td>...</td>\n",
              "      <td>...</td>\n",
              "      <td>...</td>\n",
              "      <td>...</td>\n",
              "      <td>...</td>\n",
              "      <td>...</td>\n",
              "      <td>...</td>\n",
              "      <td>...</td>\n",
              "      <td>...</td>\n",
              "      <td>...</td>\n",
              "      <td>...</td>\n",
              "      <td>...</td>\n",
              "      <td>...</td>\n",
              "    </tr>\n",
              "    <tr>\n",
              "      <th>8038</th>\n",
              "      <td>1</td>\n",
              "      <td>10</td>\n",
              "      <td>1547270488</td>\n",
              "      <td>24.134315</td>\n",
              "      <td>82.757307</td>\n",
              "      <td>322</td>\n",
              "      <td>20</td>\n",
              "      <td>0</td>\n",
              "      <td>7377176</td>\n",
              "      <td>11</td>\n",
              "      <td>1547270488</td>\n",
              "      <td>11000111</td>\n",
              "      <td>2019-01-12 05:21:27.936</td>\n",
              "      <td>40</td>\n",
              "      <td>TE</td>\n",
              "      <td>TE</td>\n",
              "      <td>NaN</td>\n",
              "    </tr>\n",
              "    <tr>\n",
              "      <th>8039</th>\n",
              "      <td>1</td>\n",
              "      <td>10</td>\n",
              "      <td>1547270503</td>\n",
              "      <td>24.135060</td>\n",
              "      <td>82.757113</td>\n",
              "      <td>323</td>\n",
              "      <td>18</td>\n",
              "      <td>0</td>\n",
              "      <td>7377176</td>\n",
              "      <td>11</td>\n",
              "      <td>1547270503</td>\n",
              "      <td>11000111</td>\n",
              "      <td>2019-01-12 05:21:42.624</td>\n",
              "      <td>42</td>\n",
              "      <td>TE</td>\n",
              "      <td>TE</td>\n",
              "      <td>NaN</td>\n",
              "    </tr>\n",
              "    <tr>\n",
              "      <th>8040</th>\n",
              "      <td>1</td>\n",
              "      <td>10</td>\n",
              "      <td>1547270518</td>\n",
              "      <td>24.135367</td>\n",
              "      <td>82.756353</td>\n",
              "      <td>322</td>\n",
              "      <td>20</td>\n",
              "      <td>0</td>\n",
              "      <td>7377176</td>\n",
              "      <td>12</td>\n",
              "      <td>1547270518</td>\n",
              "      <td>11000111</td>\n",
              "      <td>2019-01-12 05:21:58.176</td>\n",
              "      <td>44</td>\n",
              "      <td>TE</td>\n",
              "      <td>TE</td>\n",
              "      <td>NaN</td>\n",
              "    </tr>\n",
              "    <tr>\n",
              "      <th>8041</th>\n",
              "      <td>1</td>\n",
              "      <td>10</td>\n",
              "      <td>1547270533</td>\n",
              "      <td>24.135453</td>\n",
              "      <td>82.755627</td>\n",
              "      <td>317</td>\n",
              "      <td>9</td>\n",
              "      <td>0</td>\n",
              "      <td>7377176</td>\n",
              "      <td>12</td>\n",
              "      <td>1547270533</td>\n",
              "      <td>11000111</td>\n",
              "      <td>2019-01-12 05:22:12.864</td>\n",
              "      <td>46</td>\n",
              "      <td>TE</td>\n",
              "      <td>TE</td>\n",
              "      <td>NaN</td>\n",
              "    </tr>\n",
              "    <tr>\n",
              "      <th>8042</th>\n",
              "      <td>1</td>\n",
              "      <td>10</td>\n",
              "      <td>1547270548</td>\n",
              "      <td>24.135470</td>\n",
              "      <td>82.755575</td>\n",
              "      <td>316</td>\n",
              "      <td>0</td>\n",
              "      <td>0</td>\n",
              "      <td>7377176</td>\n",
              "      <td>11</td>\n",
              "      <td>1547270548</td>\n",
              "      <td>11000111</td>\n",
              "      <td>2019-01-12 05:22:28.416</td>\n",
              "      <td>48</td>\n",
              "      <td>TE</td>\n",
              "      <td>WL</td>\n",
              "      <td>417.0</td>\n",
              "    </tr>\n",
              "  </tbody>\n",
              "</table>\n",
              "<p>8043 rows × 17 columns</p>\n",
              "</div>"
            ],
            "text/plain": [
              "      Site ID  Tipper Device ID  ...  Activity State  Trip No\n",
              "0           1                10  ...              TL      NaN\n",
              "1           1                10  ...              TL      NaN\n",
              "2           1                10  ...              UL    365.0\n",
              "3           1                10  ...              UL      NaN\n",
              "4           1                10  ...              UL      NaN\n",
              "...       ...               ...  ...             ...      ...\n",
              "8038        1                10  ...              TE      NaN\n",
              "8039        1                10  ...              TE      NaN\n",
              "8040        1                10  ...              TE      NaN\n",
              "8041        1                10  ...              TE      NaN\n",
              "8042        1                10  ...              WL    417.0\n",
              "\n",
              "[8043 rows x 17 columns]"
            ]
          },
          "metadata": {},
          "execution_count": 109
        }
      ]
    },
    {
      "cell_type": "code",
      "metadata": {
        "colab": {
          "base_uri": "https://localhost:8080/"
        },
        "id": "Lr05hAnF6I75",
        "outputId": "6c75fda2-3ba9-4309-a2d4-221e0af79d73"
      },
      "source": [
        "d1['RFID'].value_counts()"
      ],
      "execution_count": 110,
      "outputs": [
        {
          "output_type": "execute_result",
          "data": {
            "text/plain": [
              "7377176    5920\n",
              "7872707    2123\n",
              "Name: RFID, dtype: int64"
            ]
          },
          "metadata": {},
          "execution_count": 110
        }
      ]
    },
    {
      "cell_type": "code",
      "metadata": {
        "id": "lvxsgtiFYZw4"
      },
      "source": [
        "d2 = d1[['Longitude','Speed','Exc Dev ID','IOs','Previous State','Activity State','Address','No. of Satellites']]"
      ],
      "execution_count": 111,
      "outputs": []
    },
    {
      "cell_type": "code",
      "metadata": {
        "colab": {
          "base_uri": "https://localhost:8080/"
        },
        "id": "5keoCCYZfyGO",
        "outputId": "6adb2136-77f0-473a-9436-38259e24e0c8"
      },
      "source": [
        "d2['Previous State'].value_counts()"
      ],
      "execution_count": 112,
      "outputs": [
        {
          "output_type": "execute_result",
          "data": {
            "text/plain": [
              "LD    2864\n",
              "TL    1961\n",
              "TE    1219\n",
              "WL     604\n",
              "WT     379\n",
              "UL     332\n",
              "MN     330\n",
              "SE     174\n",
              "SL     105\n",
              "WD      71\n",
              "Ul       4\n",
              "Name: Previous State, dtype: int64"
            ]
          },
          "metadata": {},
          "execution_count": 112
        }
      ]
    },
    {
      "cell_type": "code",
      "metadata": {
        "colab": {
          "base_uri": "https://localhost:8080/"
        },
        "id": "ZfGM5BhlJ3H2",
        "outputId": "edc32774-b78e-408a-927c-f261d23d6aab"
      },
      "source": [
        "d2['IOs'] =d2['IOs'].astype('int')"
      ],
      "execution_count": 113,
      "outputs": [
        {
          "output_type": "stream",
          "text": [
            "/usr/local/lib/python3.7/dist-packages/ipykernel_launcher.py:1: SettingWithCopyWarning: \n",
            "A value is trying to be set on a copy of a slice from a DataFrame.\n",
            "Try using .loc[row_indexer,col_indexer] = value instead\n",
            "\n",
            "See the caveats in the documentation: https://pandas.pydata.org/pandas-docs/stable/user_guide/indexing.html#returning-a-view-versus-a-copy\n",
            "  \"\"\"Entry point for launching an IPython kernel.\n"
          ],
          "name": "stderr"
        }
      ]
    },
    {
      "cell_type": "code",
      "metadata": {
        "colab": {
          "base_uri": "https://localhost:8080/"
        },
        "id": "YvmGF-OkQeIh",
        "outputId": "38ffd856-f8d0-456b-a386-ef49966c12cc"
      },
      "source": [
        "d2['IOs'] = d2['IOs']/1000000\n"
      ],
      "execution_count": 114,
      "outputs": [
        {
          "output_type": "stream",
          "text": [
            "/usr/local/lib/python3.7/dist-packages/ipykernel_launcher.py:1: SettingWithCopyWarning: \n",
            "A value is trying to be set on a copy of a slice from a DataFrame.\n",
            "Try using .loc[row_indexer,col_indexer] = value instead\n",
            "\n",
            "See the caveats in the documentation: https://pandas.pydata.org/pandas-docs/stable/user_guide/indexing.html#returning-a-view-versus-a-copy\n",
            "  \"\"\"Entry point for launching an IPython kernel.\n"
          ],
          "name": "stderr"
        }
      ]
    },
    {
      "cell_type": "code",
      "metadata": {
        "colab": {
          "base_uri": "https://localhost:8080/"
        },
        "id": "e7YkrrKoK1AH",
        "outputId": "6c0f2f40-4f09-48b9-abbf-7367ecd06dfe"
      },
      "source": [
        "d2['IOs'] =d2['IOs'].astype('int')"
      ],
      "execution_count": 117,
      "outputs": [
        {
          "output_type": "stream",
          "text": [
            "/usr/local/lib/python3.7/dist-packages/ipykernel_launcher.py:1: SettingWithCopyWarning: \n",
            "A value is trying to be set on a copy of a slice from a DataFrame.\n",
            "Try using .loc[row_indexer,col_indexer] = value instead\n",
            "\n",
            "See the caveats in the documentation: https://pandas.pydata.org/pandas-docs/stable/user_guide/indexing.html#returning-a-view-versus-a-copy\n",
            "  \"\"\"Entry point for launching an IPython kernel.\n"
          ],
          "name": "stderr"
        }
      ]
    },
    {
      "cell_type": "code",
      "metadata": {
        "id": "37A5e86RSDow"
      },
      "source": [
        "df = d2"
      ],
      "execution_count": 118,
      "outputs": []
    },
    {
      "cell_type": "code",
      "metadata": {
        "id": "rkIYwtG5a-lu",
        "colab": {
          "base_uri": "https://localhost:8080/",
          "height": 86
        },
        "outputId": "69beb45e-3da9-40f2-9e3a-98f95c628c76"
      },
      "source": [
        "\"\"\"def haversine(lat1, lon1, lat2, lon2, to_radians=True, earth_radius=6371):\n",
        "   \n",
        "    if to_radians:\n",
        "        lat1 = np.radians(lat1)\n",
        "        lat2 = np.radians(lat2)\n",
        "        lon1 = np.radians(lon1)\n",
        "        lon2 = np.radians(lon2)\n",
        "\n",
        "    a = np.sin((lat2-lat1)/2.0)**2 + \\\n",
        "        np.cos(lat1) * np.cos(lat2) * np.sin((lon2-lon1)/2.0)**2\n",
        "\n",
        "    return earth_radius * 2 * np.arcsin(np.sqrt(a))\n",
        "\n",
        "\n",
        "df['dist'] = \\\n",
        "    haversine(df.Latitude.shift(), df.Longitude.shift(),\n",
        "                df.loc[1:, 'Latitude'], df.loc[1:, 'Longitude'])\"\"\""
      ],
      "execution_count": 119,
      "outputs": [
        {
          "output_type": "execute_result",
          "data": {
            "application/vnd.google.colaboratory.intrinsic+json": {
              "type": "string"
            },
            "text/plain": [
              "\"def haversine(lat1, lon1, lat2, lon2, to_radians=True, earth_radius=6371):\\n   \\n    if to_radians:\\n        lat1 = np.radians(lat1)\\n        lat2 = np.radians(lat2)\\n        lon1 = np.radians(lon1)\\n        lon2 = np.radians(lon2)\\n\\n    a = np.sin((lat2-lat1)/2.0)**2 +         np.cos(lat1) * np.cos(lat2) * np.sin((lon2-lon1)/2.0)**2\\n\\n    return earth_radius * 2 * np.arcsin(np.sqrt(a))\\n\\n\\ndf['dist'] =     haversine(df.Latitude.shift(), df.Longitude.shift(),\\n                df.loc[1:, 'Latitude'], df.loc[1:, 'Longitude'])\""
            ]
          },
          "metadata": {},
          "execution_count": 119
        }
      ]
    },
    {
      "cell_type": "code",
      "metadata": {
        "id": "vD8U0HHuVNz0",
        "colab": {
          "base_uri": "https://localhost:8080/",
          "height": 417
        },
        "outputId": "892d137a-40e9-451b-a88c-7d35d90c91b8"
      },
      "source": [
        "df "
      ],
      "execution_count": 120,
      "outputs": [
        {
          "output_type": "execute_result",
          "data": {
            "text/html": [
              "<div>\n",
              "<style scoped>\n",
              "    .dataframe tbody tr th:only-of-type {\n",
              "        vertical-align: middle;\n",
              "    }\n",
              "\n",
              "    .dataframe tbody tr th {\n",
              "        vertical-align: top;\n",
              "    }\n",
              "\n",
              "    .dataframe thead th {\n",
              "        text-align: right;\n",
              "    }\n",
              "</style>\n",
              "<table border=\"1\" class=\"dataframe\">\n",
              "  <thead>\n",
              "    <tr style=\"text-align: right;\">\n",
              "      <th></th>\n",
              "      <th>Longitude</th>\n",
              "      <th>Speed</th>\n",
              "      <th>Exc Dev ID</th>\n",
              "      <th>IOs</th>\n",
              "      <th>Previous State</th>\n",
              "      <th>Activity State</th>\n",
              "      <th>Address</th>\n",
              "      <th>No. of Satellites</th>\n",
              "    </tr>\n",
              "  </thead>\n",
              "  <tbody>\n",
              "    <tr>\n",
              "      <th>0</th>\n",
              "      <td>82.751752</td>\n",
              "      <td>0</td>\n",
              "      <td>0</td>\n",
              "      <td>11</td>\n",
              "      <td>TL</td>\n",
              "      <td>TL</td>\n",
              "      <td>63</td>\n",
              "      <td>10</td>\n",
              "    </tr>\n",
              "    <tr>\n",
              "      <th>1</th>\n",
              "      <td>82.751752</td>\n",
              "      <td>0</td>\n",
              "      <td>0</td>\n",
              "      <td>10</td>\n",
              "      <td>TL</td>\n",
              "      <td>TL</td>\n",
              "      <td>65</td>\n",
              "      <td>10</td>\n",
              "    </tr>\n",
              "    <tr>\n",
              "      <th>2</th>\n",
              "      <td>82.751752</td>\n",
              "      <td>0</td>\n",
              "      <td>0</td>\n",
              "      <td>10</td>\n",
              "      <td>TL</td>\n",
              "      <td>UL</td>\n",
              "      <td>67</td>\n",
              "      <td>10</td>\n",
              "    </tr>\n",
              "    <tr>\n",
              "      <th>3</th>\n",
              "      <td>82.751752</td>\n",
              "      <td>0</td>\n",
              "      <td>0</td>\n",
              "      <td>10</td>\n",
              "      <td>UL</td>\n",
              "      <td>UL</td>\n",
              "      <td>69</td>\n",
              "      <td>10</td>\n",
              "    </tr>\n",
              "    <tr>\n",
              "      <th>4</th>\n",
              "      <td>82.751752</td>\n",
              "      <td>0</td>\n",
              "      <td>0</td>\n",
              "      <td>10</td>\n",
              "      <td>UL</td>\n",
              "      <td>UL</td>\n",
              "      <td>71</td>\n",
              "      <td>9</td>\n",
              "    </tr>\n",
              "    <tr>\n",
              "      <th>...</th>\n",
              "      <td>...</td>\n",
              "      <td>...</td>\n",
              "      <td>...</td>\n",
              "      <td>...</td>\n",
              "      <td>...</td>\n",
              "      <td>...</td>\n",
              "      <td>...</td>\n",
              "      <td>...</td>\n",
              "    </tr>\n",
              "    <tr>\n",
              "      <th>8038</th>\n",
              "      <td>82.757307</td>\n",
              "      <td>20</td>\n",
              "      <td>0</td>\n",
              "      <td>11</td>\n",
              "      <td>TE</td>\n",
              "      <td>TE</td>\n",
              "      <td>40</td>\n",
              "      <td>11</td>\n",
              "    </tr>\n",
              "    <tr>\n",
              "      <th>8039</th>\n",
              "      <td>82.757113</td>\n",
              "      <td>18</td>\n",
              "      <td>0</td>\n",
              "      <td>11</td>\n",
              "      <td>TE</td>\n",
              "      <td>TE</td>\n",
              "      <td>42</td>\n",
              "      <td>11</td>\n",
              "    </tr>\n",
              "    <tr>\n",
              "      <th>8040</th>\n",
              "      <td>82.756353</td>\n",
              "      <td>20</td>\n",
              "      <td>0</td>\n",
              "      <td>11</td>\n",
              "      <td>TE</td>\n",
              "      <td>TE</td>\n",
              "      <td>44</td>\n",
              "      <td>12</td>\n",
              "    </tr>\n",
              "    <tr>\n",
              "      <th>8041</th>\n",
              "      <td>82.755627</td>\n",
              "      <td>9</td>\n",
              "      <td>0</td>\n",
              "      <td>11</td>\n",
              "      <td>TE</td>\n",
              "      <td>TE</td>\n",
              "      <td>46</td>\n",
              "      <td>12</td>\n",
              "    </tr>\n",
              "    <tr>\n",
              "      <th>8042</th>\n",
              "      <td>82.755575</td>\n",
              "      <td>0</td>\n",
              "      <td>0</td>\n",
              "      <td>11</td>\n",
              "      <td>TE</td>\n",
              "      <td>WL</td>\n",
              "      <td>48</td>\n",
              "      <td>11</td>\n",
              "    </tr>\n",
              "  </tbody>\n",
              "</table>\n",
              "<p>8043 rows × 8 columns</p>\n",
              "</div>"
            ],
            "text/plain": [
              "      Longitude  Speed  Exc Dev ID  ...  Activity State Address No. of Satellites\n",
              "0     82.751752      0           0  ...              TL      63                10\n",
              "1     82.751752      0           0  ...              TL      65                10\n",
              "2     82.751752      0           0  ...              UL      67                10\n",
              "3     82.751752      0           0  ...              UL      69                10\n",
              "4     82.751752      0           0  ...              UL      71                 9\n",
              "...         ...    ...         ...  ...             ...     ...               ...\n",
              "8038  82.757307     20           0  ...              TE      40                11\n",
              "8039  82.757113     18           0  ...              TE      42                11\n",
              "8040  82.756353     20           0  ...              TE      44                12\n",
              "8041  82.755627      9           0  ...              TE      46                12\n",
              "8042  82.755575      0           0  ...              WL      48                11\n",
              "\n",
              "[8043 rows x 8 columns]"
            ]
          },
          "metadata": {},
          "execution_count": 120
        }
      ]
    },
    {
      "cell_type": "code",
      "metadata": {
        "id": "nbieM5z5WANV",
        "colab": {
          "base_uri": "https://localhost:8080/"
        },
        "outputId": "d9797655-82c9-43f9-ecbc-cb49adca3b2d"
      },
      "source": [
        "df.loc[df['Activity State']=='LD','Activity State']=1\n",
        "df.loc[df['Activity State']=='TL','Activity State']=2\n",
        "df.loc[df['Activity State']=='TE','Activity State']=3\n",
        "df.loc[df['Activity State']=='WL','Activity State']=4\n",
        "df.loc[df['Activity State']=='WT','Activity State']=5\n",
        "df.loc[df['Activity State']=='UL','Activity State']=6\n",
        "df.loc[df['Activity State']=='MN','Activity State']=7\n",
        "df.loc[df['Activity State']=='SE','Activity State']=8\n",
        "df.loc[df['Activity State']=='SL','Activity State']=9\n",
        "df.loc[df['Activity State']=='WD','Activity State']=10\n",
        "df.loc[df['Activity State']=='Ul','Activity State']=11\n"
      ],
      "execution_count": 121,
      "outputs": [
        {
          "output_type": "stream",
          "text": [
            "/usr/local/lib/python3.7/dist-packages/pandas/core/indexing.py:1763: SettingWithCopyWarning: \n",
            "A value is trying to be set on a copy of a slice from a DataFrame.\n",
            "Try using .loc[row_indexer,col_indexer] = value instead\n",
            "\n",
            "See the caveats in the documentation: https://pandas.pydata.org/pandas-docs/stable/user_guide/indexing.html#returning-a-view-versus-a-copy\n",
            "  isetter(loc, value)\n"
          ],
          "name": "stderr"
        }
      ]
    },
    {
      "cell_type": "code",
      "metadata": {
        "colab": {
          "base_uri": "https://localhost:8080/"
        },
        "id": "7hkB0QT3gi9y",
        "outputId": "e226f078-32e5-49e0-d90c-5062bc54770c"
      },
      "source": [
        "df.loc[df['Previous State']=='LD','Previous State']=1\n",
        "df.loc[df['Previous State']=='TL','Previous State']=2\n",
        "df.loc[df['Previous State']=='TE','Previous State']=3\n",
        "df.loc[df['Previous State']=='WL','Previous State']=4\n",
        "df.loc[df['Previous State']=='WT','Previous State']=5\n",
        "df.loc[df['Previous State']=='UL','Previous State']=6\n",
        "df.loc[df['Previous State']=='MN','Previous State']=7\n",
        "df.loc[df['Previous State']=='SE','Previous State']=8\n",
        "df.loc[df['Previous State']=='SL','Previous State']=9\n",
        "df.loc[df['Previous State']=='WD','Previous State']=10\n",
        "df.loc[df['Previous State']=='Ul','Previous State']=11"
      ],
      "execution_count": 122,
      "outputs": [
        {
          "output_type": "stream",
          "text": [
            "/usr/local/lib/python3.7/dist-packages/pandas/core/indexing.py:1763: SettingWithCopyWarning: \n",
            "A value is trying to be set on a copy of a slice from a DataFrame.\n",
            "Try using .loc[row_indexer,col_indexer] = value instead\n",
            "\n",
            "See the caveats in the documentation: https://pandas.pydata.org/pandas-docs/stable/user_guide/indexing.html#returning-a-view-versus-a-copy\n",
            "  isetter(loc, value)\n"
          ],
          "name": "stderr"
        }
      ]
    },
    {
      "cell_type": "code",
      "metadata": {
        "colab": {
          "base_uri": "https://localhost:8080/"
        },
        "id": "LPDIGhqPgzx3",
        "outputId": "0f2a6b4b-6a77-4f98-d5fb-64826b5e8dfb"
      },
      "source": [
        "df['Activity State'] = df['Activity State'].astype('int')\n",
        "df['Previous State'] = df['Previous State'].astype('int')"
      ],
      "execution_count": 123,
      "outputs": [
        {
          "output_type": "stream",
          "text": [
            "/usr/local/lib/python3.7/dist-packages/ipykernel_launcher.py:1: SettingWithCopyWarning: \n",
            "A value is trying to be set on a copy of a slice from a DataFrame.\n",
            "Try using .loc[row_indexer,col_indexer] = value instead\n",
            "\n",
            "See the caveats in the documentation: https://pandas.pydata.org/pandas-docs/stable/user_guide/indexing.html#returning-a-view-versus-a-copy\n",
            "  \"\"\"Entry point for launching an IPython kernel.\n",
            "/usr/local/lib/python3.7/dist-packages/ipykernel_launcher.py:2: SettingWithCopyWarning: \n",
            "A value is trying to be set on a copy of a slice from a DataFrame.\n",
            "Try using .loc[row_indexer,col_indexer] = value instead\n",
            "\n",
            "See the caveats in the documentation: https://pandas.pydata.org/pandas-docs/stable/user_guide/indexing.html#returning-a-view-versus-a-copy\n",
            "  \n"
          ],
          "name": "stderr"
        }
      ]
    },
    {
      "cell_type": "code",
      "metadata": {
        "colab": {
          "base_uri": "https://localhost:8080/",
          "height": 295
        },
        "id": "nquL74dohRlv",
        "outputId": "9cead08e-d4ce-49b7-a5e4-9fbe359c1ca1"
      },
      "source": [
        "df.corr()"
      ],
      "execution_count": 124,
      "outputs": [
        {
          "output_type": "execute_result",
          "data": {
            "text/html": [
              "<div>\n",
              "<style scoped>\n",
              "    .dataframe tbody tr th:only-of-type {\n",
              "        vertical-align: middle;\n",
              "    }\n",
              "\n",
              "    .dataframe tbody tr th {\n",
              "        vertical-align: top;\n",
              "    }\n",
              "\n",
              "    .dataframe thead th {\n",
              "        text-align: right;\n",
              "    }\n",
              "</style>\n",
              "<table border=\"1\" class=\"dataframe\">\n",
              "  <thead>\n",
              "    <tr style=\"text-align: right;\">\n",
              "      <th></th>\n",
              "      <th>Longitude</th>\n",
              "      <th>Speed</th>\n",
              "      <th>Exc Dev ID</th>\n",
              "      <th>IOs</th>\n",
              "      <th>Previous State</th>\n",
              "      <th>Activity State</th>\n",
              "      <th>Address</th>\n",
              "      <th>No. of Satellites</th>\n",
              "    </tr>\n",
              "  </thead>\n",
              "  <tbody>\n",
              "    <tr>\n",
              "      <th>Longitude</th>\n",
              "      <td>1.000000</td>\n",
              "      <td>0.462379</td>\n",
              "      <td>-0.332796</td>\n",
              "      <td>-0.188669</td>\n",
              "      <td>0.404673</td>\n",
              "      <td>0.408576</td>\n",
              "      <td>-0.006971</td>\n",
              "      <td>-0.341909</td>\n",
              "    </tr>\n",
              "    <tr>\n",
              "      <th>Speed</th>\n",
              "      <td>0.462379</td>\n",
              "      <td>1.000000</td>\n",
              "      <td>-0.307653</td>\n",
              "      <td>0.216451</td>\n",
              "      <td>-0.043402</td>\n",
              "      <td>-0.043263</td>\n",
              "      <td>-0.020621</td>\n",
              "      <td>-0.324702</td>\n",
              "    </tr>\n",
              "    <tr>\n",
              "      <th>Exc Dev ID</th>\n",
              "      <td>-0.332796</td>\n",
              "      <td>-0.307653</td>\n",
              "      <td>1.000000</td>\n",
              "      <td>0.171880</td>\n",
              "      <td>-0.051120</td>\n",
              "      <td>-0.050054</td>\n",
              "      <td>0.019947</td>\n",
              "      <td>0.589735</td>\n",
              "    </tr>\n",
              "    <tr>\n",
              "      <th>IOs</th>\n",
              "      <td>-0.188669</td>\n",
              "      <td>0.216451</td>\n",
              "      <td>0.171880</td>\n",
              "      <td>1.000000</td>\n",
              "      <td>-0.370910</td>\n",
              "      <td>-0.376855</td>\n",
              "      <td>-0.001589</td>\n",
              "      <td>0.228215</td>\n",
              "    </tr>\n",
              "    <tr>\n",
              "      <th>Previous State</th>\n",
              "      <td>0.404673</td>\n",
              "      <td>-0.043402</td>\n",
              "      <td>-0.051120</td>\n",
              "      <td>-0.370910</td>\n",
              "      <td>1.000000</td>\n",
              "      <td>0.956910</td>\n",
              "      <td>-0.000396</td>\n",
              "      <td>-0.179294</td>\n",
              "    </tr>\n",
              "    <tr>\n",
              "      <th>Activity State</th>\n",
              "      <td>0.408576</td>\n",
              "      <td>-0.043263</td>\n",
              "      <td>-0.050054</td>\n",
              "      <td>-0.376855</td>\n",
              "      <td>0.956910</td>\n",
              "      <td>1.000000</td>\n",
              "      <td>-0.002222</td>\n",
              "      <td>-0.180655</td>\n",
              "    </tr>\n",
              "    <tr>\n",
              "      <th>Address</th>\n",
              "      <td>-0.006971</td>\n",
              "      <td>-0.020621</td>\n",
              "      <td>0.019947</td>\n",
              "      <td>-0.001589</td>\n",
              "      <td>-0.000396</td>\n",
              "      <td>-0.002222</td>\n",
              "      <td>1.000000</td>\n",
              "      <td>0.005559</td>\n",
              "    </tr>\n",
              "    <tr>\n",
              "      <th>No. of Satellites</th>\n",
              "      <td>-0.341909</td>\n",
              "      <td>-0.324702</td>\n",
              "      <td>0.589735</td>\n",
              "      <td>0.228215</td>\n",
              "      <td>-0.179294</td>\n",
              "      <td>-0.180655</td>\n",
              "      <td>0.005559</td>\n",
              "      <td>1.000000</td>\n",
              "    </tr>\n",
              "  </tbody>\n",
              "</table>\n",
              "</div>"
            ],
            "text/plain": [
              "                   Longitude     Speed  ...   Address  No. of Satellites\n",
              "Longitude           1.000000  0.462379  ... -0.006971          -0.341909\n",
              "Speed               0.462379  1.000000  ... -0.020621          -0.324702\n",
              "Exc Dev ID         -0.332796 -0.307653  ...  0.019947           0.589735\n",
              "IOs                -0.188669  0.216451  ... -0.001589           0.228215\n",
              "Previous State      0.404673 -0.043402  ... -0.000396          -0.179294\n",
              "Activity State      0.408576 -0.043263  ... -0.002222          -0.180655\n",
              "Address            -0.006971 -0.020621  ...  1.000000           0.005559\n",
              "No. of Satellites  -0.341909 -0.324702  ...  0.005559           1.000000\n",
              "\n",
              "[8 rows x 8 columns]"
            ]
          },
          "metadata": {},
          "execution_count": 124
        }
      ]
    },
    {
      "cell_type": "code",
      "metadata": {
        "id": "y27klMVntB3Q"
      },
      "source": [
        "df = df.drop('Address',axis=1)"
      ],
      "execution_count": 125,
      "outputs": []
    },
    {
      "cell_type": "code",
      "metadata": {
        "id": "2kwbF5EyeYqe"
      },
      "source": [
        "#y = pd.get_dummies(df['Activity State'])\n",
        "y = df['Activity State']"
      ],
      "execution_count": 126,
      "outputs": []
    },
    {
      "cell_type": "code",
      "metadata": {
        "id": "yac2EnoZzRUX"
      },
      "source": [
        "df['Ignite'] =  df['IOs']/10\n",
        "df['Hoist'] = df['IOs']%10\n",
        "df['Ignite'] = df['Ignite'].astype('int')"
      ],
      "execution_count": 127,
      "outputs": []
    },
    {
      "cell_type": "code",
      "metadata": {
        "id": "Mb9OTRhKfxRR"
      },
      "source": [
        "df = df.drop(['Activity State','IOs'],axis=1)"
      ],
      "execution_count": 128,
      "outputs": []
    },
    {
      "cell_type": "code",
      "metadata": {
        "colab": {
          "base_uri": "https://localhost:8080/",
          "height": 265
        },
        "id": "rFG6Ko0SvAs9",
        "outputId": "276a6184-59ad-4aa0-818b-e616ebd5f9dc"
      },
      "source": [
        "df.corr()"
      ],
      "execution_count": 129,
      "outputs": [
        {
          "output_type": "execute_result",
          "data": {
            "text/html": [
              "<div>\n",
              "<style scoped>\n",
              "    .dataframe tbody tr th:only-of-type {\n",
              "        vertical-align: middle;\n",
              "    }\n",
              "\n",
              "    .dataframe tbody tr th {\n",
              "        vertical-align: top;\n",
              "    }\n",
              "\n",
              "    .dataframe thead th {\n",
              "        text-align: right;\n",
              "    }\n",
              "</style>\n",
              "<table border=\"1\" class=\"dataframe\">\n",
              "  <thead>\n",
              "    <tr style=\"text-align: right;\">\n",
              "      <th></th>\n",
              "      <th>Longitude</th>\n",
              "      <th>Speed</th>\n",
              "      <th>Exc Dev ID</th>\n",
              "      <th>Previous State</th>\n",
              "      <th>No. of Satellites</th>\n",
              "      <th>Ignite</th>\n",
              "      <th>Hoist</th>\n",
              "    </tr>\n",
              "  </thead>\n",
              "  <tbody>\n",
              "    <tr>\n",
              "      <th>Longitude</th>\n",
              "      <td>1.000000</td>\n",
              "      <td>0.462379</td>\n",
              "      <td>-0.332796</td>\n",
              "      <td>0.404673</td>\n",
              "      <td>-0.341909</td>\n",
              "      <td>-0.182472</td>\n",
              "      <td>-0.214425</td>\n",
              "    </tr>\n",
              "    <tr>\n",
              "      <th>Speed</th>\n",
              "      <td>0.462379</td>\n",
              "      <td>1.000000</td>\n",
              "      <td>-0.307653</td>\n",
              "      <td>-0.043402</td>\n",
              "      <td>-0.324702</td>\n",
              "      <td>0.208938</td>\n",
              "      <td>0.249523</td>\n",
              "    </tr>\n",
              "    <tr>\n",
              "      <th>Exc Dev ID</th>\n",
              "      <td>-0.332796</td>\n",
              "      <td>-0.307653</td>\n",
              "      <td>1.000000</td>\n",
              "      <td>-0.051120</td>\n",
              "      <td>0.589735</td>\n",
              "      <td>0.165914</td>\n",
              "      <td>0.198142</td>\n",
              "    </tr>\n",
              "    <tr>\n",
              "      <th>Previous State</th>\n",
              "      <td>0.404673</td>\n",
              "      <td>-0.043402</td>\n",
              "      <td>-0.051120</td>\n",
              "      <td>1.000000</td>\n",
              "      <td>-0.179294</td>\n",
              "      <td>-0.358700</td>\n",
              "      <td>-0.421794</td>\n",
              "    </tr>\n",
              "    <tr>\n",
              "      <th>No. of Satellites</th>\n",
              "      <td>-0.341909</td>\n",
              "      <td>-0.324702</td>\n",
              "      <td>0.589735</td>\n",
              "      <td>-0.179294</td>\n",
              "      <td>1.000000</td>\n",
              "      <td>0.221995</td>\n",
              "      <td>0.248228</td>\n",
              "    </tr>\n",
              "    <tr>\n",
              "      <th>Ignite</th>\n",
              "      <td>-0.182472</td>\n",
              "      <td>0.208938</td>\n",
              "      <td>0.165914</td>\n",
              "      <td>-0.358700</td>\n",
              "      <td>0.221995</td>\n",
              "      <td>1.000000</td>\n",
              "      <td>0.833758</td>\n",
              "    </tr>\n",
              "    <tr>\n",
              "      <th>Hoist</th>\n",
              "      <td>-0.214425</td>\n",
              "      <td>0.249523</td>\n",
              "      <td>0.198142</td>\n",
              "      <td>-0.421794</td>\n",
              "      <td>0.248228</td>\n",
              "      <td>0.833758</td>\n",
              "      <td>1.000000</td>\n",
              "    </tr>\n",
              "  </tbody>\n",
              "</table>\n",
              "</div>"
            ],
            "text/plain": [
              "                   Longitude     Speed  ...    Ignite     Hoist\n",
              "Longitude           1.000000  0.462379  ... -0.182472 -0.214425\n",
              "Speed               0.462379  1.000000  ...  0.208938  0.249523\n",
              "Exc Dev ID         -0.332796 -0.307653  ...  0.165914  0.198142\n",
              "Previous State      0.404673 -0.043402  ... -0.358700 -0.421794\n",
              "No. of Satellites  -0.341909 -0.324702  ...  0.221995  0.248228\n",
              "Ignite             -0.182472  0.208938  ...  1.000000  0.833758\n",
              "Hoist              -0.214425  0.249523  ...  0.833758  1.000000\n",
              "\n",
              "[7 rows x 7 columns]"
            ]
          },
          "metadata": {},
          "execution_count": 129
        }
      ]
    },
    {
      "cell_type": "code",
      "metadata": {
        "id": "StIcq-Ie7Cb0"
      },
      "source": [
        "#df = df.drop('Longitude',axis=1)"
      ],
      "execution_count": 130,
      "outputs": []
    },
    {
      "cell_type": "code",
      "metadata": {
        "id": "BNwwlYJzh_x4"
      },
      "source": [
        "X = df.iloc[:,:].values"
      ],
      "execution_count": 131,
      "outputs": []
    },
    {
      "cell_type": "code",
      "metadata": {
        "id": "lVH1qLzOEg0H"
      },
      "source": [
        "y = y.astype('int')"
      ],
      "execution_count": 132,
      "outputs": []
    },
    {
      "cell_type": "code",
      "metadata": {
        "id": "eO_JGYoQjTZ2"
      },
      "source": [
        "from sklearn.model_selection import train_test_split\n",
        "X_train,X_test,Y_train,Y_test = train_test_split(X,y,test_size = 0.2)"
      ],
      "execution_count": 133,
      "outputs": []
    },
    {
      "cell_type": "code",
      "metadata": {
        "id": "tlYDSOWljakL",
        "colab": {
          "base_uri": "https://localhost:8080/"
        },
        "outputId": "9e9bc4b3-c29b-48bb-c993-18c0df7d2c44"
      },
      "source": [
        "from sklearn.ensemble import RandomForestClassifier\n",
        "lr = RandomForestClassifier()\n",
        "lr.fit(X_train, Y_train)"
      ],
      "execution_count": 134,
      "outputs": [
        {
          "output_type": "execute_result",
          "data": {
            "text/plain": [
              "RandomForestClassifier(bootstrap=True, ccp_alpha=0.0, class_weight=None,\n",
              "                       criterion='gini', max_depth=None, max_features='auto',\n",
              "                       max_leaf_nodes=None, max_samples=None,\n",
              "                       min_impurity_decrease=0.0, min_impurity_split=None,\n",
              "                       min_samples_leaf=1, min_samples_split=2,\n",
              "                       min_weight_fraction_leaf=0.0, n_estimators=100,\n",
              "                       n_jobs=None, oob_score=False, random_state=None,\n",
              "                       verbose=0, warm_start=False)"
            ]
          },
          "metadata": {},
          "execution_count": 134
        }
      ]
    },
    {
      "cell_type": "code",
      "metadata": {
        "id": "Mdh5SYlnj1MY"
      },
      "source": [
        "from sklearn.metrics import accuracy_score\n",
        "ac = accuracy_score(Y_test,lr.predict(X_test))\n",
        "ac1 = accuracy_score(Y_train,lr.predict(X_train))"
      ],
      "execution_count": 135,
      "outputs": []
    },
    {
      "cell_type": "code",
      "metadata": {
        "id": "QK48jYZnmKqM",
        "colab": {
          "base_uri": "https://localhost:8080/"
        },
        "outputId": "b954786b-6981-4d8d-fe40-1f516b613663"
      },
      "source": [
        "print(ac*100)\n",
        "print(ac1*100)"
      ],
      "execution_count": 136,
      "outputs": [
        {
          "output_type": "stream",
          "text": [
            "97.07893101305159\n",
            "99.3627603357165\n"
          ],
          "name": "stdout"
        }
      ]
    }
  ]
}